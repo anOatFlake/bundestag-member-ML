{
 "cells": [
  {
   "cell_type": "markdown",
   "metadata": {},
   "source": [
    "# Bundestag Stammdaten ML \n",
    "TODO: Erklärung wo der Datensatz her kommt\n",
    "TODO: Zielsetzung"
   ]
  },
  {
   "cell_type": "code",
   "execution_count": 7,
   "metadata": {},
   "outputs": [],
   "source": [
    "# space for imports\n",
    "import pandas as pd\n",
    "import numpy as np\n",
    "import seaborn\n",
    "import matplotlib.pyplot as plt"
   ]
  },
  {
   "cell_type": "markdown",
   "metadata": {},
   "source": [
    "<hr>\n",
    "\n",
    "## 1) Load data\n",
    "### CSV\n",
    "Even though the Bundestag publish an XML-File or offers a working REST-API, these data structures need heavy preparation before they can be used in a pandas dataframe. "
   ]
  },
  {
   "cell_type": "code",
   "execution_count": 144,
   "metadata": {},
   "outputs": [],
   "source": [
    "mdb_csv = pd.read_csv('C:/Dev/uni/malrn/project/bundestag-member-ML/data/mdb_data.csv',sep=\";\", encoding=\"latin-1\")\n",
    "mdb_csv = mdb_csv.drop(columns=['Unnamed: 0'], axis=1)"
   ]
  },
  {
   "cell_type": "markdown",
   "metadata": {},
   "source": [
    "<hr>\n",
    "\n",
    "## 2) First overview of the data and the data structure"
   ]
  },
  {
   "cell_type": "markdown",
   "metadata": {},
   "source": [
    "### 2.1) Data structure"
   ]
  },
  {
   "cell_type": "code",
   "execution_count": 145,
   "metadata": {},
   "outputs": [
    {
     "data": {
      "text/html": [
       "<div>\n",
       "<style scoped>\n",
       "    .dataframe tbody tr th:only-of-type {\n",
       "        vertical-align: middle;\n",
       "    }\n",
       "\n",
       "    .dataframe tbody tr th {\n",
       "        vertical-align: top;\n",
       "    }\n",
       "\n",
       "    .dataframe thead th {\n",
       "        text-align: right;\n",
       "    }\n",
       "</style>\n",
       "<table border=\"1\" class=\"dataframe\">\n",
       "  <thead>\n",
       "    <tr style=\"text-align: right;\">\n",
       "      <th></th>\n",
       "      <th>title</th>\n",
       "      <th>first_name</th>\n",
       "      <th>last_name</th>\n",
       "      <th>full_name</th>\n",
       "      <th>gender</th>\n",
       "      <th>date_birth</th>\n",
       "      <th>place_birth</th>\n",
       "      <th>country_birth</th>\n",
       "      <th>date_death</th>\n",
       "      <th>religion</th>\n",
       "      <th>family_stat</th>\n",
       "      <th>occupation</th>\n",
       "      <th>party</th>\n",
       "      <th>time</th>\n",
       "      <th>legislature</th>\n",
       "      <th>elect_distr</th>\n",
       "      <th>faction</th>\n",
       "      <th>mandate_type</th>\n",
       "    </tr>\n",
       "  </thead>\n",
       "  <tbody>\n",
       "    <tr>\n",
       "      <th>0</th>\n",
       "      <td>Dr.</td>\n",
       "      <td>Manfred</td>\n",
       "      <td>Abelein</td>\n",
       "      <td>Dr. Manfred Abelein</td>\n",
       "      <td>männlich</td>\n",
       "      <td>20.10.1930</td>\n",
       "      <td>Stuttgart</td>\n",
       "      <td>NaN</td>\n",
       "      <td>17.01.2008</td>\n",
       "      <td>katholisch</td>\n",
       "      <td>keine Angaben</td>\n",
       "      <td>Rechtsanwalt, Wirtschaftsprüfer, Universitätsp...</td>\n",
       "      <td>CDU</td>\n",
       "      <td>1</td>\n",
       "      <td>5</td>\n",
       "      <td>174.0</td>\n",
       "      <td>Fraktion der Christlich Demokratischen Union/C...</td>\n",
       "      <td>Direktwahl</td>\n",
       "    </tr>\n",
       "    <tr>\n",
       "      <th>1</th>\n",
       "      <td>Dr.</td>\n",
       "      <td>Ernst</td>\n",
       "      <td>Achenbach</td>\n",
       "      <td>Dr. Ernst Achenbach</td>\n",
       "      <td>männlich</td>\n",
       "      <td>09.04.1909</td>\n",
       "      <td>Siegen</td>\n",
       "      <td>NaN</td>\n",
       "      <td>02.12.1991</td>\n",
       "      <td>evangelisch</td>\n",
       "      <td>verheiratet, 3 Kinder</td>\n",
       "      <td>Rechtsanwalt und Notar</td>\n",
       "      <td>FDP</td>\n",
       "      <td>1</td>\n",
       "      <td>3</td>\n",
       "      <td>NaN</td>\n",
       "      <td>Fraktion der Freien Demokratischen Partei</td>\n",
       "      <td>Landesliste</td>\n",
       "    </tr>\n",
       "    <tr>\n",
       "      <th>2</th>\n",
       "      <td>NaN</td>\n",
       "      <td>Annemarie</td>\n",
       "      <td>Ackermann</td>\n",
       "      <td>Annemarie Ackermann</td>\n",
       "      <td>weiblich</td>\n",
       "      <td>26.05.1913</td>\n",
       "      <td>Parabutsch</td>\n",
       "      <td>Jugoslawien</td>\n",
       "      <td>18.02.1994</td>\n",
       "      <td>katholisch</td>\n",
       "      <td>verheiratet, 5 Kinder</td>\n",
       "      <td>Hilfsreferentin</td>\n",
       "      <td>CDU</td>\n",
       "      <td>1</td>\n",
       "      <td>2</td>\n",
       "      <td>NaN</td>\n",
       "      <td>Fraktion der Christlich Demokratischen Union/C...</td>\n",
       "      <td>Landesliste</td>\n",
       "    </tr>\n",
       "    <tr>\n",
       "      <th>3</th>\n",
       "      <td>Dr.</td>\n",
       "      <td>Else</td>\n",
       "      <td>Ackermann</td>\n",
       "      <td>Dr. Else Ackermann</td>\n",
       "      <td>weiblich</td>\n",
       "      <td>06.11.1933</td>\n",
       "      <td>Berlin</td>\n",
       "      <td>NaN</td>\n",
       "      <td>14.09.2019</td>\n",
       "      <td>evangelisch</td>\n",
       "      <td>ledig</td>\n",
       "      <td>Ärztin</td>\n",
       "      <td>CDU</td>\n",
       "      <td>1</td>\n",
       "      <td>11</td>\n",
       "      <td>NaN</td>\n",
       "      <td>Fraktion der Christlich Demokratischen Union/C...</td>\n",
       "      <td>Volkskammer</td>\n",
       "    </tr>\n",
       "    <tr>\n",
       "      <th>4</th>\n",
       "      <td>NaN</td>\n",
       "      <td>Ulrich</td>\n",
       "      <td>Adam</td>\n",
       "      <td>Ulrich Adam</td>\n",
       "      <td>männlich</td>\n",
       "      <td>09.06.1950</td>\n",
       "      <td>Teterow, Kr. Teterow, Bezirk Neubrandenburg</td>\n",
       "      <td>NaN</td>\n",
       "      <td>NaN</td>\n",
       "      <td>evangelisch</td>\n",
       "      <td>verheiratet, 2 Kinder</td>\n",
       "      <td>Mathematiker, Geschäftsführer</td>\n",
       "      <td>CDU</td>\n",
       "      <td>1</td>\n",
       "      <td>12</td>\n",
       "      <td>268.0</td>\n",
       "      <td>Fraktion der Christlich Demokratischen Union/C...</td>\n",
       "      <td>Direktwahl</td>\n",
       "    </tr>\n",
       "  </tbody>\n",
       "</table>\n",
       "</div>"
      ],
      "text/plain": [
       "  title first_name  last_name            full_name    gender  date_birth  \\\n",
       "0   Dr.    Manfred    Abelein  Dr. Manfred Abelein  männlich  20.10.1930   \n",
       "1   Dr.      Ernst  Achenbach  Dr. Ernst Achenbach  männlich  09.04.1909   \n",
       "2   NaN  Annemarie  Ackermann  Annemarie Ackermann  weiblich  26.05.1913   \n",
       "3   Dr.       Else  Ackermann   Dr. Else Ackermann  weiblich  06.11.1933   \n",
       "4   NaN     Ulrich       Adam          Ulrich Adam  männlich  09.06.1950   \n",
       "\n",
       "                                   place_birth country_birth  date_death  \\\n",
       "0                                    Stuttgart           NaN  17.01.2008   \n",
       "1                                       Siegen           NaN  02.12.1991   \n",
       "2                                   Parabutsch   Jugoslawien  18.02.1994   \n",
       "3                                       Berlin           NaN  14.09.2019   \n",
       "4  Teterow, Kr. Teterow, Bezirk Neubrandenburg           NaN         NaN   \n",
       "\n",
       "      religion            family_stat  \\\n",
       "0   katholisch          keine Angaben   \n",
       "1  evangelisch  verheiratet, 3 Kinder   \n",
       "2   katholisch  verheiratet, 5 Kinder   \n",
       "3  evangelisch                  ledig   \n",
       "4  evangelisch  verheiratet, 2 Kinder   \n",
       "\n",
       "                                          occupation party  time  legislature  \\\n",
       "0  Rechtsanwalt, Wirtschaftsprüfer, Universitätsp...   CDU     1            5   \n",
       "1                             Rechtsanwalt und Notar   FDP     1            3   \n",
       "2                                    Hilfsreferentin   CDU     1            2   \n",
       "3                                             Ärztin   CDU     1           11   \n",
       "4                      Mathematiker, Geschäftsführer   CDU     1           12   \n",
       "\n",
       "   elect_distr                                            faction mandate_type  \n",
       "0        174.0  Fraktion der Christlich Demokratischen Union/C...   Direktwahl  \n",
       "1          NaN          Fraktion der Freien Demokratischen Partei  Landesliste  \n",
       "2          NaN  Fraktion der Christlich Demokratischen Union/C...  Landesliste  \n",
       "3          NaN  Fraktion der Christlich Demokratischen Union/C...  Volkskammer  \n",
       "4        268.0  Fraktion der Christlich Demokratischen Union/C...   Direktwahl  "
      ]
     },
     "execution_count": 145,
     "metadata": {},
     "output_type": "execute_result"
    }
   ],
   "source": [
    "mdb_csv.head()"
   ]
  },
  {
   "cell_type": "code",
   "execution_count": 146,
   "metadata": {},
   "outputs": [
    {
     "name": "stdout",
     "output_type": "stream",
     "text": [
      "<class 'pandas.core.frame.DataFrame'>\n",
      "RangeIndex: 11618 entries, 0 to 11617\n",
      "Data columns (total 18 columns):\n",
      " #   Column         Non-Null Count  Dtype  \n",
      "---  ------         --------------  -----  \n",
      " 0   title          3061 non-null   object \n",
      " 1   first_name     11618 non-null  object \n",
      " 2   last_name      11618 non-null  object \n",
      " 3   full_name      11618 non-null  object \n",
      " 4   gender         11618 non-null  object \n",
      " 5   date_birth     11618 non-null  object \n",
      " 6   place_birth    11614 non-null  object \n",
      " 7   country_birth  213 non-null    object \n",
      " 8   date_death     5411 non-null   object \n",
      " 9   religion       11192 non-null  object \n",
      " 10  family_stat    11463 non-null  object \n",
      " 11  occupation     11618 non-null  object \n",
      " 12  party          11613 non-null  object \n",
      " 13  time           11618 non-null  int64  \n",
      " 14  legislature    11618 non-null  int64  \n",
      " 15  elect_distr    5970 non-null   float64\n",
      " 16  faction        11618 non-null  object \n",
      " 17  mandate_type   11617 non-null  object \n",
      "dtypes: float64(1), int64(2), object(15)\n",
      "memory usage: 1.6+ MB\n"
     ]
    }
   ],
   "source": [
    "mdb_csv.info()"
   ]
  },
  {
   "cell_type": "markdown",
   "metadata": {},
   "source": [
    "There are multiple columns with null values. <br>\n",
    "This includes with a missing value from `party` also one of the two y-values.\n",
    "\n",
    "Values in columns like `place_birth`, `party` and `mandate_type`, where just a couple are missing, could be filled by researching the parliament member."
   ]
  },
  {
   "cell_type": "code",
   "execution_count": 147,
   "metadata": {},
   "outputs": [
    {
     "data": {
      "text/html": [
       "<div>\n",
       "<style scoped>\n",
       "    .dataframe tbody tr th:only-of-type {\n",
       "        vertical-align: middle;\n",
       "    }\n",
       "\n",
       "    .dataframe tbody tr th {\n",
       "        vertical-align: top;\n",
       "    }\n",
       "\n",
       "    .dataframe thead th {\n",
       "        text-align: right;\n",
       "    }\n",
       "</style>\n",
       "<table border=\"1\" class=\"dataframe\">\n",
       "  <thead>\n",
       "    <tr style=\"text-align: right;\">\n",
       "      <th></th>\n",
       "      <th>time</th>\n",
       "      <th>legislature</th>\n",
       "      <th>elect_distr</th>\n",
       "    </tr>\n",
       "  </thead>\n",
       "  <tbody>\n",
       "    <tr>\n",
       "      <th>count</th>\n",
       "      <td>11618.000000</td>\n",
       "      <td>11618.000000</td>\n",
       "      <td>5970.000000</td>\n",
       "    </tr>\n",
       "    <tr>\n",
       "      <th>mean</th>\n",
       "      <td>2.571355</td>\n",
       "      <td>10.507058</td>\n",
       "      <td>134.130151</td>\n",
       "    </tr>\n",
       "    <tr>\n",
       "      <th>std</th>\n",
       "      <td>1.707634</td>\n",
       "      <td>5.433358</td>\n",
       "      <td>86.298410</td>\n",
       "    </tr>\n",
       "    <tr>\n",
       "      <th>min</th>\n",
       "      <td>1.000000</td>\n",
       "      <td>1.000000</td>\n",
       "      <td>1.000000</td>\n",
       "    </tr>\n",
       "    <tr>\n",
       "      <th>25%</th>\n",
       "      <td>1.000000</td>\n",
       "      <td>6.000000</td>\n",
       "      <td>56.000000</td>\n",
       "    </tr>\n",
       "    <tr>\n",
       "      <th>50%</th>\n",
       "      <td>2.000000</td>\n",
       "      <td>11.000000</td>\n",
       "      <td>130.000000</td>\n",
       "    </tr>\n",
       "    <tr>\n",
       "      <th>75%</th>\n",
       "      <td>3.000000</td>\n",
       "      <td>15.000000</td>\n",
       "      <td>204.000000</td>\n",
       "    </tr>\n",
       "    <tr>\n",
       "      <th>max</th>\n",
       "      <td>13.000000</td>\n",
       "      <td>19.000000</td>\n",
       "      <td>328.000000</td>\n",
       "    </tr>\n",
       "  </tbody>\n",
       "</table>\n",
       "</div>"
      ],
      "text/plain": [
       "               time   legislature  elect_distr\n",
       "count  11618.000000  11618.000000  5970.000000\n",
       "mean       2.571355     10.507058   134.130151\n",
       "std        1.707634      5.433358    86.298410\n",
       "min        1.000000      1.000000     1.000000\n",
       "25%        1.000000      6.000000    56.000000\n",
       "50%        2.000000     11.000000   130.000000\n",
       "75%        3.000000     15.000000   204.000000\n",
       "max       13.000000     19.000000   328.000000"
      ]
     },
     "execution_count": 147,
     "metadata": {},
     "output_type": "execute_result"
    }
   ],
   "source": [
    "mdb_csv.describe()"
   ]
  },
  {
   "cell_type": "markdown",
   "metadata": {},
   "source": [
    "### 2.2) Categorical values"
   ]
  },
  {
   "cell_type": "code",
   "execution_count": 148,
   "metadata": {},
   "outputs": [
    {
     "data": {
      "text/plain": [
       "gender\n",
       "männlich    9376\n",
       "weiblich    2242\n",
       "Name: count, dtype: int64"
      ]
     },
     "execution_count": 148,
     "metadata": {},
     "output_type": "execute_result"
    }
   ],
   "source": [
    "mdb_csv['gender'].value_counts()"
   ]
  },
  {
   "cell_type": "code",
   "execution_count": 149,
   "metadata": {},
   "outputs": [
    {
     "data": {
      "text/plain": [
       "<Axes: xlabel='gender'>"
      ]
     },
     "execution_count": 149,
     "metadata": {},
     "output_type": "execute_result"
    },
    {
     "data": {
      "image/png": "[encoded data removed]",
      "text/plain": [
       "<Figure size 400x200 with 1 Axes>"
      ]
     },
     "metadata": {},
     "output_type": "display_data"
    }
   ],
   "source": [
    "mdb_csv['gender'].value_counts().plot(kind='bar', figsize=(4,2))"
   ]
  },
  {
   "cell_type": "code",
   "execution_count": 150,
   "metadata": {},
   "outputs": [
    {
     "data": {
      "text/plain": [
       "title\n",
       "Dr.                 2869\n",
       "Prof. Dr.             96\n",
       "Dr. h. c.             49\n",
       "Prof.                 26\n",
       "Dr. - Ing.            13\n",
       "Prof. Dr. - Ing.       7\n",
       "Dr. Dr. h. c.          1\n",
       "Name: count, dtype: int64"
      ]
     },
     "execution_count": 150,
     "metadata": {},
     "output_type": "execute_result"
    }
   ],
   "source": [
    "mdb_csv['title'].value_counts()"
   ]
  },
  {
   "cell_type": "code",
   "execution_count": 151,
   "metadata": {},
   "outputs": [
    {
     "data": {
      "text/plain": [
       "<Axes: xlabel='title'>"
      ]
     },
     "execution_count": 151,
     "metadata": {},
     "output_type": "execute_result"
    },
    {
     "data": {
      "image/png": "[encoded data removed]",
      "text/plain": [
       "<Figure size 400x200 with 1 Axes>"
      ]
     },
     "metadata": {},
     "output_type": "display_data"
    }
   ],
   "source": [
    "mdb_csv['title'].value_counts().plot(kind='bar', figsize=(4,2))"
   ]
  },
  {
   "cell_type": "markdown",
   "metadata": {},
   "source": [
    "TODO: what is the difference between Dr, Dr. h. c. and Dr. Ing."
   ]
  },
  {
   "cell_type": "markdown",
   "metadata": {},
   "source": [
    "#### Missing values in place_birth, party and mandate_type"
   ]
  },
  {
   "cell_type": "code",
   "execution_count": 152,
   "metadata": {},
   "outputs": [
    {
     "name": "stdout",
     "output_type": "stream",
     "text": [
      "Amount of unique birth places: 2180\n"
     ]
    }
   ],
   "source": [
    "print(\"Amount of unique birth places:\", len(mdb_csv['place_birth'].unique()))"
   ]
  },
  {
   "cell_type": "code",
   "execution_count": 153,
   "metadata": {},
   "outputs": [
    {
     "data": {
      "text/plain": [
       "place_birth\n",
       "Berlin                            486\n",
       "Hamburg                           269\n",
       "München                           230\n",
       "Stuttgart                         134\n",
       "Essen                             123\n",
       "                                 ... \n",
       "Schwarzenbach                       1\n",
       "Weilmünster                         1\n",
       "Merseburg                           1\n",
       "Lichtenstein / Bezirk Chemnitz      1\n",
       "Mühldorf a. Inn                     1\n",
       "Name: count, Length: 2179, dtype: int64"
      ]
     },
     "execution_count": 153,
     "metadata": {},
     "output_type": "execute_result"
    }
   ],
   "source": [
    "mdb_csv['place_birth'].value_counts()"
   ]
  },
  {
   "cell_type": "code",
   "execution_count": 154,
   "metadata": {},
   "outputs": [
    {
     "data": {
      "text/html": [
       "<div>\n",
       "<style scoped>\n",
       "    .dataframe tbody tr th:only-of-type {\n",
       "        vertical-align: middle;\n",
       "    }\n",
       "\n",
       "    .dataframe tbody tr th {\n",
       "        vertical-align: top;\n",
       "    }\n",
       "\n",
       "    .dataframe thead th {\n",
       "        text-align: right;\n",
       "    }\n",
       "</style>\n",
       "<table border=\"1\" class=\"dataframe\">\n",
       "  <thead>\n",
       "    <tr style=\"text-align: right;\">\n",
       "      <th></th>\n",
       "      <th>title</th>\n",
       "      <th>first_name</th>\n",
       "      <th>last_name</th>\n",
       "      <th>full_name</th>\n",
       "      <th>gender</th>\n",
       "      <th>date_birth</th>\n",
       "      <th>place_birth</th>\n",
       "      <th>country_birth</th>\n",
       "      <th>date_death</th>\n",
       "      <th>religion</th>\n",
       "      <th>family_stat</th>\n",
       "      <th>occupation</th>\n",
       "      <th>party</th>\n",
       "      <th>time</th>\n",
       "      <th>legislature</th>\n",
       "      <th>elect_distr</th>\n",
       "      <th>faction</th>\n",
       "      <th>mandate_type</th>\n",
       "    </tr>\n",
       "  </thead>\n",
       "  <tbody>\n",
       "    <tr>\n",
       "      <th>3357</th>\n",
       "      <td>NaN</td>\n",
       "      <td>Patrick</td>\n",
       "      <td>Kurth</td>\n",
       "      <td>Patrick Kurth</td>\n",
       "      <td>männlich</td>\n",
       "      <td>06.10.1976</td>\n",
       "      <td>NaN</td>\n",
       "      <td>NaN</td>\n",
       "      <td>NaN</td>\n",
       "      <td>ohne Angaben</td>\n",
       "      <td>2 Kinder</td>\n",
       "      <td>Politikwissenschaftler M. A.</td>\n",
       "      <td>FDP</td>\n",
       "      <td>1</td>\n",
       "      <td>16</td>\n",
       "      <td>NaN</td>\n",
       "      <td>Fraktion der Freien Demokratischen Partei</td>\n",
       "      <td>Landesliste</td>\n",
       "    </tr>\n",
       "    <tr>\n",
       "      <th>3564</th>\n",
       "      <td>NaN</td>\n",
       "      <td>Annette</td>\n",
       "      <td>Sawade</td>\n",
       "      <td>Annette Sawade</td>\n",
       "      <td>weiblich</td>\n",
       "      <td>23.04.1953</td>\n",
       "      <td>NaN</td>\n",
       "      <td>NaN</td>\n",
       "      <td>NaN</td>\n",
       "      <td>evangelisch</td>\n",
       "      <td>verheiratet, 3 Kinder</td>\n",
       "      <td>Diplom-Chemikerin</td>\n",
       "      <td>SPD</td>\n",
       "      <td>1</td>\n",
       "      <td>17</td>\n",
       "      <td>NaN</td>\n",
       "      <td>Fraktion der Sozialdemokratischen Partei Deuts...</td>\n",
       "      <td>Landesliste</td>\n",
       "    </tr>\n",
       "    <tr>\n",
       "      <th>6500</th>\n",
       "      <td>NaN</td>\n",
       "      <td>Patrick</td>\n",
       "      <td>Kurth</td>\n",
       "      <td>Patrick Kurth</td>\n",
       "      <td>männlich</td>\n",
       "      <td>06.10.1976</td>\n",
       "      <td>NaN</td>\n",
       "      <td>NaN</td>\n",
       "      <td>NaN</td>\n",
       "      <td>ohne Angaben</td>\n",
       "      <td>2 Kinder</td>\n",
       "      <td>Politikwissenschaftler M. A.</td>\n",
       "      <td>FDP</td>\n",
       "      <td>2</td>\n",
       "      <td>17</td>\n",
       "      <td>NaN</td>\n",
       "      <td>Fraktion der Freien Demokratischen Partei</td>\n",
       "      <td>Landesliste</td>\n",
       "    </tr>\n",
       "    <tr>\n",
       "      <th>6650</th>\n",
       "      <td>NaN</td>\n",
       "      <td>Annette</td>\n",
       "      <td>Sawade</td>\n",
       "      <td>Annette Sawade</td>\n",
       "      <td>weiblich</td>\n",
       "      <td>23.04.1953</td>\n",
       "      <td>NaN</td>\n",
       "      <td>NaN</td>\n",
       "      <td>NaN</td>\n",
       "      <td>evangelisch</td>\n",
       "      <td>verheiratet, 3 Kinder</td>\n",
       "      <td>Diplom-Chemikerin</td>\n",
       "      <td>SPD</td>\n",
       "      <td>2</td>\n",
       "      <td>18</td>\n",
       "      <td>NaN</td>\n",
       "      <td>Fraktion der Sozialdemokratischen Partei Deuts...</td>\n",
       "      <td>Landesliste</td>\n",
       "    </tr>\n",
       "  </tbody>\n",
       "</table>\n",
       "</div>"
      ],
      "text/plain": [
       "     title first_name last_name       full_name    gender  date_birth  \\\n",
       "3357   NaN    Patrick     Kurth   Patrick Kurth  männlich  06.10.1976   \n",
       "3564   NaN    Annette    Sawade  Annette Sawade  weiblich  23.04.1953   \n",
       "6500   NaN    Patrick     Kurth   Patrick Kurth  männlich  06.10.1976   \n",
       "6650   NaN    Annette    Sawade  Annette Sawade  weiblich  23.04.1953   \n",
       "\n",
       "     place_birth country_birth date_death      religion  \\\n",
       "3357         NaN           NaN        NaN  ohne Angaben   \n",
       "3564         NaN           NaN        NaN   evangelisch   \n",
       "6500         NaN           NaN        NaN  ohne Angaben   \n",
       "6650         NaN           NaN        NaN   evangelisch   \n",
       "\n",
       "                family_stat                    occupation party  time  \\\n",
       "3357               2 Kinder  Politikwissenschaftler M. A.   FDP     1   \n",
       "3564  verheiratet, 3 Kinder             Diplom-Chemikerin   SPD     1   \n",
       "6500               2 Kinder  Politikwissenschaftler M. A.   FDP     2   \n",
       "6650  verheiratet, 3 Kinder             Diplom-Chemikerin   SPD     2   \n",
       "\n",
       "      legislature  elect_distr  \\\n",
       "3357           16          NaN   \n",
       "3564           17          NaN   \n",
       "6500           17          NaN   \n",
       "6650           18          NaN   \n",
       "\n",
       "                                                faction mandate_type  \n",
       "3357          Fraktion der Freien Demokratischen Partei  Landesliste  \n",
       "3564  Fraktion der Sozialdemokratischen Partei Deuts...  Landesliste  \n",
       "6500          Fraktion der Freien Demokratischen Partei  Landesliste  \n",
       "6650  Fraktion der Sozialdemokratischen Partei Deuts...  Landesliste  "
      ]
     },
     "execution_count": 154,
     "metadata": {},
     "output_type": "execute_result"
    }
   ],
   "source": [
    "mdb_csv[mdb_csv['place_birth'].isnull()]"
   ]
  },
  {
   "cell_type": "markdown",
   "metadata": {},
   "source": [
    "There are only four values in the data set without any birth place. <br>\n",
    "After a quick google search this value can be filled with `Sondershausen` in Patrick Kurth's case and with `Nordhausen` in Annette Sawade's case."
   ]
  },
  {
   "cell_type": "code",
   "execution_count": 156,
   "metadata": {},
   "outputs": [
    {
     "data": {
      "text/plain": [
       "party\n",
       "SPD                      4247\n",
       "CDU                      4150\n",
       "FDP                      1035\n",
       "CSU                       997\n",
       "BÜNDNIS 90/DIE GRÜNEN     451\n",
       "DIE LINKE.                296\n",
       "AfD                        91\n",
       "PDS                        77\n",
       "GRÜNE                      51\n",
       "DP                         37\n",
       "Plos                       34\n",
       "DIE GRÜNEN/BÜNDNIS 90      32\n",
       "FU                         21\n",
       "GB/ BHE                    20\n",
       "KPD                        18\n",
       "PDS/LL                     15\n",
       "WAV                        14\n",
       "DZP                         5\n",
       "BP                          5\n",
       "DSU                         5\n",
       "CSUS                        4\n",
       "DRP                         3\n",
       "DPS                         2\n",
       "DPB                         1\n",
       "CVP                         1\n",
       "SRP                         1\n",
       "Name: count, dtype: int64"
      ]
     },
     "execution_count": 156,
     "metadata": {},
     "output_type": "execute_result"
    }
   ],
   "source": [
    "mdb_csv['party'].value_counts()"
   ]
  },
  {
   "cell_type": "code",
   "execution_count": 157,
   "metadata": {},
   "outputs": [
    {
     "data": {
      "text/plain": [
       "<Axes: xlabel='party'>"
      ]
     },
     "execution_count": 157,
     "metadata": {},
     "output_type": "execute_result"
    },
    {
     "data": {
      "image/png": "[encoded data removed]",
      "text/plain": [
       "<Figure size 1500x400 with 1 Axes>"
      ]
     },
     "metadata": {},
     "output_type": "display_data"
    }
   ],
   "source": [
    "mdb_csv['party'].value_counts().plot(kind='bar', figsize=(15,4))"
   ]
  },
  {
   "cell_type": "code",
   "execution_count": 158,
   "metadata": {},
   "outputs": [
    {
     "data": {
      "text/html": [
       "<div>\n",
       "<style scoped>\n",
       "    .dataframe tbody tr th:only-of-type {\n",
       "        vertical-align: middle;\n",
       "    }\n",
       "\n",
       "    .dataframe tbody tr th {\n",
       "        vertical-align: top;\n",
       "    }\n",
       "\n",
       "    .dataframe thead th {\n",
       "        text-align: right;\n",
       "    }\n",
       "</style>\n",
       "<table border=\"1\" class=\"dataframe\">\n",
       "  <thead>\n",
       "    <tr style=\"text-align: right;\">\n",
       "      <th></th>\n",
       "      <th>title</th>\n",
       "      <th>first_name</th>\n",
       "      <th>last_name</th>\n",
       "      <th>full_name</th>\n",
       "      <th>gender</th>\n",
       "      <th>date_birth</th>\n",
       "      <th>place_birth</th>\n",
       "      <th>country_birth</th>\n",
       "      <th>date_death</th>\n",
       "      <th>religion</th>\n",
       "      <th>family_stat</th>\n",
       "      <th>occupation</th>\n",
       "      <th>party</th>\n",
       "      <th>time</th>\n",
       "      <th>legislature</th>\n",
       "      <th>elect_distr</th>\n",
       "      <th>faction</th>\n",
       "      <th>mandate_type</th>\n",
       "    </tr>\n",
       "  </thead>\n",
       "  <tbody>\n",
       "    <tr>\n",
       "      <th>574</th>\n",
       "      <td>NaN</td>\n",
       "      <td>Alfred</td>\n",
       "      <td>Frenzel</td>\n",
       "      <td>Alfred Frenzel</td>\n",
       "      <td>männlich</td>\n",
       "      <td>18.09.1899</td>\n",
       "      <td>Josefsthal</td>\n",
       "      <td>NaN</td>\n",
       "      <td>23.07.1968</td>\n",
       "      <td>ohne Angaben</td>\n",
       "      <td>keine Angaben</td>\n",
       "      <td>Glasschmelzer</td>\n",
       "      <td>NaN</td>\n",
       "      <td>1</td>\n",
       "      <td>2</td>\n",
       "      <td>NaN</td>\n",
       "      <td>Fraktion der Sozialdemokratischen Partei Deuts...</td>\n",
       "      <td>Landesliste</td>\n",
       "    </tr>\n",
       "    <tr>\n",
       "      <th>1322</th>\n",
       "      <td>Dr.</td>\n",
       "      <td>Heinrich</td>\n",
       "      <td>Leuchtgens</td>\n",
       "      <td>Dr. Heinrich Leuchtgens</td>\n",
       "      <td>männlich</td>\n",
       "      <td>31.10.1876</td>\n",
       "      <td>Birklar</td>\n",
       "      <td>NaN</td>\n",
       "      <td>21.03.1959</td>\n",
       "      <td>ohne Angaben</td>\n",
       "      <td>keine Angaben</td>\n",
       "      <td>Lehrer, Volkswirt</td>\n",
       "      <td>NaN</td>\n",
       "      <td>1</td>\n",
       "      <td>1</td>\n",
       "      <td>NaN</td>\n",
       "      <td>Fraktion der Freien Demokratischen Partei</td>\n",
       "      <td>Landesliste</td>\n",
       "    </tr>\n",
       "    <tr>\n",
       "      <th>2054</th>\n",
       "      <td>Dr.</td>\n",
       "      <td>Helmuth</td>\n",
       "      <td>Schranz</td>\n",
       "      <td>Dr. Helmuth Schranz</td>\n",
       "      <td>männlich</td>\n",
       "      <td>07.01.1897</td>\n",
       "      <td>Haiger</td>\n",
       "      <td>NaN</td>\n",
       "      <td>07.05.1968</td>\n",
       "      <td>ohne Angaben</td>\n",
       "      <td>verheiratet, 4 Kinder</td>\n",
       "      <td>Prokurist</td>\n",
       "      <td>NaN</td>\n",
       "      <td>1</td>\n",
       "      <td>2</td>\n",
       "      <td>NaN</td>\n",
       "      <td>Fraktion Deutsche Partei</td>\n",
       "      <td>Landesliste</td>\n",
       "    </tr>\n",
       "    <tr>\n",
       "      <th>4481</th>\n",
       "      <td>NaN</td>\n",
       "      <td>Alfred</td>\n",
       "      <td>Frenzel</td>\n",
       "      <td>Alfred Frenzel</td>\n",
       "      <td>männlich</td>\n",
       "      <td>18.09.1899</td>\n",
       "      <td>Josefsthal</td>\n",
       "      <td>NaN</td>\n",
       "      <td>23.07.1968</td>\n",
       "      <td>ohne Angaben</td>\n",
       "      <td>keine Angaben</td>\n",
       "      <td>Glasschmelzer</td>\n",
       "      <td>NaN</td>\n",
       "      <td>2</td>\n",
       "      <td>3</td>\n",
       "      <td>NaN</td>\n",
       "      <td>Fraktion der Sozialdemokratischen Partei Deuts...</td>\n",
       "      <td>Landesliste</td>\n",
       "    </tr>\n",
       "    <tr>\n",
       "      <th>5510</th>\n",
       "      <td>Dr.</td>\n",
       "      <td>Helmuth</td>\n",
       "      <td>Schranz</td>\n",
       "      <td>Dr. Helmuth Schranz</td>\n",
       "      <td>männlich</td>\n",
       "      <td>07.01.1897</td>\n",
       "      <td>Haiger</td>\n",
       "      <td>NaN</td>\n",
       "      <td>07.05.1968</td>\n",
       "      <td>ohne Angaben</td>\n",
       "      <td>verheiratet, 4 Kinder</td>\n",
       "      <td>Prokurist</td>\n",
       "      <td>NaN</td>\n",
       "      <td>2</td>\n",
       "      <td>3</td>\n",
       "      <td>NaN</td>\n",
       "      <td>Fraktion Deutsche Partei</td>\n",
       "      <td>Landesliste</td>\n",
       "    </tr>\n",
       "  </tbody>\n",
       "</table>\n",
       "</div>"
      ],
      "text/plain": [
       "     title first_name   last_name                full_name    gender  \\\n",
       "574    NaN     Alfred     Frenzel           Alfred Frenzel  männlich   \n",
       "1322   Dr.   Heinrich  Leuchtgens  Dr. Heinrich Leuchtgens  männlich   \n",
       "2054   Dr.    Helmuth     Schranz      Dr. Helmuth Schranz  männlich   \n",
       "4481   NaN     Alfred     Frenzel           Alfred Frenzel  männlich   \n",
       "5510   Dr.    Helmuth     Schranz      Dr. Helmuth Schranz  männlich   \n",
       "\n",
       "      date_birth place_birth country_birth  date_death      religion  \\\n",
       "574   18.09.1899  Josefsthal           NaN  23.07.1968  ohne Angaben   \n",
       "1322  31.10.1876     Birklar           NaN  21.03.1959  ohne Angaben   \n",
       "2054  07.01.1897      Haiger           NaN  07.05.1968  ohne Angaben   \n",
       "4481  18.09.1899  Josefsthal           NaN  23.07.1968  ohne Angaben   \n",
       "5510  07.01.1897      Haiger           NaN  07.05.1968  ohne Angaben   \n",
       "\n",
       "                family_stat         occupation party  time  legislature  \\\n",
       "574           keine Angaben      Glasschmelzer   NaN     1            2   \n",
       "1322          keine Angaben  Lehrer, Volkswirt   NaN     1            1   \n",
       "2054  verheiratet, 4 Kinder          Prokurist   NaN     1            2   \n",
       "4481          keine Angaben      Glasschmelzer   NaN     2            3   \n",
       "5510  verheiratet, 4 Kinder          Prokurist   NaN     2            3   \n",
       "\n",
       "      elect_distr                                            faction  \\\n",
       "574           NaN  Fraktion der Sozialdemokratischen Partei Deuts...   \n",
       "1322          NaN          Fraktion der Freien Demokratischen Partei   \n",
       "2054          NaN                           Fraktion Deutsche Partei   \n",
       "4481          NaN  Fraktion der Sozialdemokratischen Partei Deuts...   \n",
       "5510          NaN                           Fraktion Deutsche Partei   \n",
       "\n",
       "     mandate_type  \n",
       "574   Landesliste  \n",
       "1322  Landesliste  \n",
       "2054  Landesliste  \n",
       "4481  Landesliste  \n",
       "5510  Landesliste  "
      ]
     },
     "execution_count": 158,
     "metadata": {},
     "output_type": "execute_result"
    }
   ],
   "source": [
    "mdb_csv[mdb_csv['party'].isnull()]"
   ]
  },
  {
   "cell_type": "markdown",
   "metadata": {},
   "source": [
    "According to Wikipedia Alfred Frenzel was a member of the SPD, Dr. Heinrich Leuchtgens was a member of his own party the NDP and Dr. Helmuth Schranz was a member of the DP."
   ]
  },
  {
   "cell_type": "code",
   "execution_count": 160,
   "metadata": {},
   "outputs": [
    {
     "data": {
      "text/plain": [
       "mandate_type\n",
       "Landesliste    6270\n",
       "Direktwahl     5202\n",
       "Volkskammer     145\n",
       "Name: count, dtype: int64"
      ]
     },
     "execution_count": 160,
     "metadata": {},
     "output_type": "execute_result"
    }
   ],
   "source": [
    "mdb_csv['mandate_type'].value_counts()"
   ]
  },
  {
   "cell_type": "code",
   "execution_count": 161,
   "metadata": {},
   "outputs": [
    {
     "data": {
      "text/plain": [
       "<Axes: xlabel='mandate_type'>"
      ]
     },
     "execution_count": 161,
     "metadata": {},
     "output_type": "execute_result"
    },
    {
     "data": {
      "image/png": "[encoded data removed]",
      "text/plain": [
       "<Figure size 500x300 with 1 Axes>"
      ]
     },
     "metadata": {},
     "output_type": "display_data"
    }
   ],
   "source": [
    "mdb_csv['mandate_type'].value_counts().plot(kind='bar', figsize=(5,3))"
   ]
  },
  {
   "cell_type": "code",
   "execution_count": 162,
   "metadata": {},
   "outputs": [
    {
     "data": {
      "text/html": [
       "<div>\n",
       "<style scoped>\n",
       "    .dataframe tbody tr th:only-of-type {\n",
       "        vertical-align: middle;\n",
       "    }\n",
       "\n",
       "    .dataframe tbody tr th {\n",
       "        vertical-align: top;\n",
       "    }\n",
       "\n",
       "    .dataframe thead th {\n",
       "        text-align: right;\n",
       "    }\n",
       "</style>\n",
       "<table border=\"1\" class=\"dataframe\">\n",
       "  <thead>\n",
       "    <tr style=\"text-align: right;\">\n",
       "      <th></th>\n",
       "      <th>title</th>\n",
       "      <th>first_name</th>\n",
       "      <th>last_name</th>\n",
       "      <th>full_name</th>\n",
       "      <th>gender</th>\n",
       "      <th>date_birth</th>\n",
       "      <th>place_birth</th>\n",
       "      <th>country_birth</th>\n",
       "      <th>date_death</th>\n",
       "      <th>religion</th>\n",
       "      <th>family_stat</th>\n",
       "      <th>occupation</th>\n",
       "      <th>party</th>\n",
       "      <th>time</th>\n",
       "      <th>legislature</th>\n",
       "      <th>elect_distr</th>\n",
       "      <th>faction</th>\n",
       "      <th>mandate_type</th>\n",
       "    </tr>\n",
       "  </thead>\n",
       "  <tbody>\n",
       "    <tr>\n",
       "      <th>5969</th>\n",
       "      <td>NaN</td>\n",
       "      <td>Werner</td>\n",
       "      <td>Kuhn</td>\n",
       "      <td>Werner Kuhn</td>\n",
       "      <td>männlich</td>\n",
       "      <td>19.05.1955</td>\n",
       "      <td>Zingst / Ostseebad</td>\n",
       "      <td>NaN</td>\n",
       "      <td>NaN</td>\n",
       "      <td>katholisch</td>\n",
       "      <td>verheiratet, 3 Kinder</td>\n",
       "      <td>Dipl.-Ingenieur für Schiffstechnik</td>\n",
       "      <td>CDU</td>\n",
       "      <td>2</td>\n",
       "      <td>14</td>\n",
       "      <td>NaN</td>\n",
       "      <td>Fraktion der Christlich Demokratischen Union/C...</td>\n",
       "      <td>NaN</td>\n",
       "    </tr>\n",
       "  </tbody>\n",
       "</table>\n",
       "</div>"
      ],
      "text/plain": [
       "     title first_name last_name    full_name    gender  date_birth  \\\n",
       "5969   NaN     Werner      Kuhn  Werner Kuhn  männlich  19.05.1955   \n",
       "\n",
       "             place_birth country_birth date_death    religion  \\\n",
       "5969  Zingst / Ostseebad           NaN        NaN  katholisch   \n",
       "\n",
       "                family_stat                          occupation party  time  \\\n",
       "5969  verheiratet, 3 Kinder  Dipl.-Ingenieur für Schiffstechnik   CDU     2   \n",
       "\n",
       "      legislature  elect_distr  \\\n",
       "5969           14          NaN   \n",
       "\n",
       "                                                faction mandate_type  \n",
       "5969  Fraktion der Christlich Demokratischen Union/C...          NaN  "
      ]
     },
     "execution_count": 162,
     "metadata": {},
     "output_type": "execute_result"
    }
   ],
   "source": [
    "mdb_csv[mdb_csv['mandate_type'].isnull()]"
   ]
  },
  {
   "cell_type": "markdown",
   "metadata": {},
   "source": [
    "The value for the `mandate_type` can't be filled in Werner Kuhn's case for the election period 14. <br>\n",
    "According to Wikipedia, he joined the Bundestag in the middle of the election period (August 2001) to fill the spot that Paul Krüger left vacant. <br>\n",
    "Since Paul Krüger was elected via the Landesliste, this value will be used as the most representive for Werner Kuhn."
   ]
  },
  {
   "cell_type": "markdown",
   "metadata": {},
   "source": [
    "#### Missing values for country_birth"
   ]
  },
  {
   "cell_type": "code",
   "execution_count": 163,
   "metadata": {},
   "outputs": [
    {
     "data": {
      "text/plain": [
       "country_birth\n",
       "Österreich                             33\n",
       "Türkei                                 15\n",
       "Schweiz                                12\n",
       "Niederlande                            11\n",
       "CSFR                                   11\n",
       "CSSR                                   11\n",
       "Italien                                 9\n",
       "Polen                                   9\n",
       "USA                                     9\n",
       "Frankreich                              8\n",
       "Estland                                 7\n",
       "Australien                              7\n",
       "Ungarn                                  5\n",
       "ehem. Deutsch-Ost-Afrika                5\n",
       "Tschechoslowakei                        5\n",
       "Ceylon                                  5\n",
       "Jugoslawien                             5\n",
       "Kroatien                                4\n",
       "Oberösterreich                          4\n",
       "Iran                                    4\n",
       "Südwestafrika                           3\n",
       "Tansania                                3\n",
       "Rumänien                                3\n",
       "Tansania (ehem. Deutsch-Ost-Afrika)     3\n",
       "Finnland                                3\n",
       "Ukraine                                 3\n",
       "Tonga-Insel, Südsee                     2\n",
       "Lettland                                2\n",
       "Dänemark                                2\n",
       "Deutschland                             2\n",
       "Israel                                  1\n",
       "Perú                                    1\n",
       "(damalige) CSR                          1\n",
       "Slowakei                                1\n",
       "Niederösterreich                        1\n",
       "Spanien                                 1\n",
       "Kenia                                   1\n",
       "Russland                                1\n",
       "Name: count, dtype: int64"
      ]
     },
     "execution_count": 163,
     "metadata": {},
     "output_type": "execute_result"
    }
   ],
   "source": [
    "mdb_csv['country_birth'].value_counts() # no germany"
   ]
  },
  {
   "cell_type": "code",
   "execution_count": 164,
   "metadata": {},
   "outputs": [
    {
     "data": {
      "text/html": [
       "<div>\n",
       "<style scoped>\n",
       "    .dataframe tbody tr th:only-of-type {\n",
       "        vertical-align: middle;\n",
       "    }\n",
       "\n",
       "    .dataframe tbody tr th {\n",
       "        vertical-align: top;\n",
       "    }\n",
       "\n",
       "    .dataframe thead th {\n",
       "        text-align: right;\n",
       "    }\n",
       "</style>\n",
       "<table border=\"1\" class=\"dataframe\">\n",
       "  <thead>\n",
       "    <tr style=\"text-align: right;\">\n",
       "      <th></th>\n",
       "      <th>title</th>\n",
       "      <th>first_name</th>\n",
       "      <th>last_name</th>\n",
       "      <th>full_name</th>\n",
       "      <th>gender</th>\n",
       "      <th>date_birth</th>\n",
       "      <th>place_birth</th>\n",
       "      <th>country_birth</th>\n",
       "      <th>date_death</th>\n",
       "      <th>religion</th>\n",
       "      <th>family_stat</th>\n",
       "      <th>occupation</th>\n",
       "      <th>party</th>\n",
       "      <th>time</th>\n",
       "      <th>legislature</th>\n",
       "      <th>elect_distr</th>\n",
       "      <th>faction</th>\n",
       "      <th>mandate_type</th>\n",
       "    </tr>\n",
       "  </thead>\n",
       "  <tbody>\n",
       "    <tr>\n",
       "      <th>0</th>\n",
       "      <td>Dr.</td>\n",
       "      <td>Manfred</td>\n",
       "      <td>Abelein</td>\n",
       "      <td>Dr. Manfred Abelein</td>\n",
       "      <td>männlich</td>\n",
       "      <td>20.10.1930</td>\n",
       "      <td>Stuttgart</td>\n",
       "      <td>NaN</td>\n",
       "      <td>17.01.2008</td>\n",
       "      <td>katholisch</td>\n",
       "      <td>keine Angaben</td>\n",
       "      <td>Rechtsanwalt, Wirtschaftsprüfer, Universitätsp...</td>\n",
       "      <td>CDU</td>\n",
       "      <td>1</td>\n",
       "      <td>5</td>\n",
       "      <td>174.0</td>\n",
       "      <td>Fraktion der Christlich Demokratischen Union/C...</td>\n",
       "      <td>Direktwahl</td>\n",
       "    </tr>\n",
       "    <tr>\n",
       "      <th>1</th>\n",
       "      <td>Dr.</td>\n",
       "      <td>Ernst</td>\n",
       "      <td>Achenbach</td>\n",
       "      <td>Dr. Ernst Achenbach</td>\n",
       "      <td>männlich</td>\n",
       "      <td>09.04.1909</td>\n",
       "      <td>Siegen</td>\n",
       "      <td>NaN</td>\n",
       "      <td>02.12.1991</td>\n",
       "      <td>evangelisch</td>\n",
       "      <td>verheiratet, 3 Kinder</td>\n",
       "      <td>Rechtsanwalt und Notar</td>\n",
       "      <td>FDP</td>\n",
       "      <td>1</td>\n",
       "      <td>3</td>\n",
       "      <td>NaN</td>\n",
       "      <td>Fraktion der Freien Demokratischen Partei</td>\n",
       "      <td>Landesliste</td>\n",
       "    </tr>\n",
       "    <tr>\n",
       "      <th>3</th>\n",
       "      <td>Dr.</td>\n",
       "      <td>Else</td>\n",
       "      <td>Ackermann</td>\n",
       "      <td>Dr. Else Ackermann</td>\n",
       "      <td>weiblich</td>\n",
       "      <td>06.11.1933</td>\n",
       "      <td>Berlin</td>\n",
       "      <td>NaN</td>\n",
       "      <td>14.09.2019</td>\n",
       "      <td>evangelisch</td>\n",
       "      <td>ledig</td>\n",
       "      <td>Ärztin</td>\n",
       "      <td>CDU</td>\n",
       "      <td>1</td>\n",
       "      <td>11</td>\n",
       "      <td>NaN</td>\n",
       "      <td>Fraktion der Christlich Demokratischen Union/C...</td>\n",
       "      <td>Volkskammer</td>\n",
       "    </tr>\n",
       "    <tr>\n",
       "      <th>4</th>\n",
       "      <td>NaN</td>\n",
       "      <td>Ulrich</td>\n",
       "      <td>Adam</td>\n",
       "      <td>Ulrich Adam</td>\n",
       "      <td>männlich</td>\n",
       "      <td>09.06.1950</td>\n",
       "      <td>Teterow, Kr. Teterow, Bezirk Neubrandenburg</td>\n",
       "      <td>NaN</td>\n",
       "      <td>NaN</td>\n",
       "      <td>evangelisch</td>\n",
       "      <td>verheiratet, 2 Kinder</td>\n",
       "      <td>Mathematiker, Geschäftsführer</td>\n",
       "      <td>CDU</td>\n",
       "      <td>1</td>\n",
       "      <td>12</td>\n",
       "      <td>268.0</td>\n",
       "      <td>Fraktion der Christlich Demokratischen Union/C...</td>\n",
       "      <td>Direktwahl</td>\n",
       "    </tr>\n",
       "    <tr>\n",
       "      <th>5</th>\n",
       "      <td>NaN</td>\n",
       "      <td>Rudolf</td>\n",
       "      <td>Adams</td>\n",
       "      <td>Rudolf Adams</td>\n",
       "      <td>männlich</td>\n",
       "      <td>10.11.1919</td>\n",
       "      <td>Masburg / Kreis Cochem</td>\n",
       "      <td>NaN</td>\n",
       "      <td>25.05.2013</td>\n",
       "      <td>evangelisch</td>\n",
       "      <td>verheiratet, 2 Kinder</td>\n",
       "      <td>Gewerkschaftssekretär</td>\n",
       "      <td>SPD</td>\n",
       "      <td>1</td>\n",
       "      <td>5</td>\n",
       "      <td>NaN</td>\n",
       "      <td>Fraktion der Sozialdemokratischen Partei Deuts...</td>\n",
       "      <td>Landesliste</td>\n",
       "    </tr>\n",
       "    <tr>\n",
       "      <th>...</th>\n",
       "      <td>...</td>\n",
       "      <td>...</td>\n",
       "      <td>...</td>\n",
       "      <td>...</td>\n",
       "      <td>...</td>\n",
       "      <td>...</td>\n",
       "      <td>...</td>\n",
       "      <td>...</td>\n",
       "      <td>...</td>\n",
       "      <td>...</td>\n",
       "      <td>...</td>\n",
       "      <td>...</td>\n",
       "      <td>...</td>\n",
       "      <td>...</td>\n",
       "      <td>...</td>\n",
       "      <td>...</td>\n",
       "      <td>...</td>\n",
       "      <td>...</td>\n",
       "    </tr>\n",
       "    <tr>\n",
       "      <th>11613</th>\n",
       "      <td>Dr.</td>\n",
       "      <td>Heinz</td>\n",
       "      <td>Riesenhuber</td>\n",
       "      <td>Dr. Heinz Riesenhuber</td>\n",
       "      <td>männlich</td>\n",
       "      <td>01.12.1935</td>\n",
       "      <td>Frankfurt/Main</td>\n",
       "      <td>NaN</td>\n",
       "      <td>NaN</td>\n",
       "      <td>katholisch</td>\n",
       "      <td>verheiratet, 4 Kinder</td>\n",
       "      <td>Dipl.-Chemiker, Bundesminister a. D.</td>\n",
       "      <td>CDU</td>\n",
       "      <td>11</td>\n",
       "      <td>18</td>\n",
       "      <td>181.0</td>\n",
       "      <td>Fraktion der Christlich Demokratischen Union/C...</td>\n",
       "      <td>Direktwahl</td>\n",
       "    </tr>\n",
       "    <tr>\n",
       "      <th>11614</th>\n",
       "      <td>Dr.</td>\n",
       "      <td>Wolfgang</td>\n",
       "      <td>Schäuble</td>\n",
       "      <td>Dr. Wolfgang Schäuble</td>\n",
       "      <td>männlich</td>\n",
       "      <td>18.09.1942</td>\n",
       "      <td>Freiburg</td>\n",
       "      <td>NaN</td>\n",
       "      <td>NaN</td>\n",
       "      <td>evangelisch</td>\n",
       "      <td>verheiratet, 4 Kinder</td>\n",
       "      <td>Bundestagspräsident, Bundesminister a. D., Jurist</td>\n",
       "      <td>CDU</td>\n",
       "      <td>11</td>\n",
       "      <td>17</td>\n",
       "      <td>284.0</td>\n",
       "      <td>Fraktion der Christlich Demokratischen Union/C...</td>\n",
       "      <td>Direktwahl</td>\n",
       "    </tr>\n",
       "    <tr>\n",
       "      <th>11615</th>\n",
       "      <td>NaN</td>\n",
       "      <td>Richard</td>\n",
       "      <td>Stücklen</td>\n",
       "      <td>Richard Stücklen</td>\n",
       "      <td>männlich</td>\n",
       "      <td>20.08.1916</td>\n",
       "      <td>Heideck</td>\n",
       "      <td>NaN</td>\n",
       "      <td>02.05.2002</td>\n",
       "      <td>katholisch</td>\n",
       "      <td>verheiratet</td>\n",
       "      <td>Präsident DBT a. D., Vizepräsident DBT a. D., ...</td>\n",
       "      <td>CSU</td>\n",
       "      <td>11</td>\n",
       "      <td>11</td>\n",
       "      <td>232.0</td>\n",
       "      <td>Fraktion der Christlich Demokratischen Union/C...</td>\n",
       "      <td>Direktwahl</td>\n",
       "    </tr>\n",
       "    <tr>\n",
       "      <th>11616</th>\n",
       "      <td>Dr.</td>\n",
       "      <td>Wolfgang</td>\n",
       "      <td>Schäuble</td>\n",
       "      <td>Dr. Wolfgang Schäuble</td>\n",
       "      <td>männlich</td>\n",
       "      <td>18.09.1942</td>\n",
       "      <td>Freiburg</td>\n",
       "      <td>NaN</td>\n",
       "      <td>NaN</td>\n",
       "      <td>evangelisch</td>\n",
       "      <td>verheiratet, 4 Kinder</td>\n",
       "      <td>Bundestagspräsident, Bundesminister a. D., Jurist</td>\n",
       "      <td>CDU</td>\n",
       "      <td>12</td>\n",
       "      <td>18</td>\n",
       "      <td>284.0</td>\n",
       "      <td>Fraktion der Christlich Demokratischen Union/C...</td>\n",
       "      <td>Direktwahl</td>\n",
       "    </tr>\n",
       "    <tr>\n",
       "      <th>11617</th>\n",
       "      <td>Dr.</td>\n",
       "      <td>Wolfgang</td>\n",
       "      <td>Schäuble</td>\n",
       "      <td>Dr. Wolfgang Schäuble</td>\n",
       "      <td>männlich</td>\n",
       "      <td>18.09.1942</td>\n",
       "      <td>Freiburg</td>\n",
       "      <td>NaN</td>\n",
       "      <td>NaN</td>\n",
       "      <td>evangelisch</td>\n",
       "      <td>verheiratet, 4 Kinder</td>\n",
       "      <td>Bundestagspräsident, Bundesminister a. D., Jurist</td>\n",
       "      <td>CDU</td>\n",
       "      <td>13</td>\n",
       "      <td>19</td>\n",
       "      <td>284.0</td>\n",
       "      <td>Präsidium</td>\n",
       "      <td>Direktwahl</td>\n",
       "    </tr>\n",
       "  </tbody>\n",
       "</table>\n",
       "<p>11405 rows × 18 columns</p>\n",
       "</div>"
      ],
      "text/plain": [
       "      title first_name    last_name              full_name    gender  \\\n",
       "0       Dr.    Manfred      Abelein    Dr. Manfred Abelein  männlich   \n",
       "1       Dr.      Ernst    Achenbach    Dr. Ernst Achenbach  männlich   \n",
       "3       Dr.       Else    Ackermann     Dr. Else Ackermann  weiblich   \n",
       "4       NaN     Ulrich         Adam            Ulrich Adam  männlich   \n",
       "5       NaN     Rudolf        Adams           Rudolf Adams  männlich   \n",
       "...     ...        ...          ...                    ...       ...   \n",
       "11613   Dr.      Heinz  Riesenhuber  Dr. Heinz Riesenhuber  männlich   \n",
       "11614   Dr.   Wolfgang     Schäuble  Dr. Wolfgang Schäuble  männlich   \n",
       "11615   NaN    Richard     Stücklen       Richard Stücklen  männlich   \n",
       "11616   Dr.   Wolfgang     Schäuble  Dr. Wolfgang Schäuble  männlich   \n",
       "11617   Dr.   Wolfgang     Schäuble  Dr. Wolfgang Schäuble  männlich   \n",
       "\n",
       "       date_birth                                  place_birth country_birth  \\\n",
       "0      20.10.1930                                    Stuttgart           NaN   \n",
       "1      09.04.1909                                       Siegen           NaN   \n",
       "3      06.11.1933                                       Berlin           NaN   \n",
       "4      09.06.1950  Teterow, Kr. Teterow, Bezirk Neubrandenburg           NaN   \n",
       "5      10.11.1919                       Masburg / Kreis Cochem           NaN   \n",
       "...           ...                                          ...           ...   \n",
       "11613  01.12.1935                               Frankfurt/Main           NaN   \n",
       "11614  18.09.1942                                     Freiburg           NaN   \n",
       "11615  20.08.1916                                      Heideck           NaN   \n",
       "11616  18.09.1942                                     Freiburg           NaN   \n",
       "11617  18.09.1942                                     Freiburg           NaN   \n",
       "\n",
       "       date_death     religion            family_stat  \\\n",
       "0      17.01.2008   katholisch          keine Angaben   \n",
       "1      02.12.1991  evangelisch  verheiratet, 3 Kinder   \n",
       "3      14.09.2019  evangelisch                  ledig   \n",
       "4             NaN  evangelisch  verheiratet, 2 Kinder   \n",
       "5      25.05.2013  evangelisch  verheiratet, 2 Kinder   \n",
       "...           ...          ...                    ...   \n",
       "11613         NaN   katholisch  verheiratet, 4 Kinder   \n",
       "11614         NaN  evangelisch  verheiratet, 4 Kinder   \n",
       "11615  02.05.2002   katholisch            verheiratet   \n",
       "11616         NaN  evangelisch  verheiratet, 4 Kinder   \n",
       "11617         NaN  evangelisch  verheiratet, 4 Kinder   \n",
       "\n",
       "                                              occupation party  time  \\\n",
       "0      Rechtsanwalt, Wirtschaftsprüfer, Universitätsp...   CDU     1   \n",
       "1                                 Rechtsanwalt und Notar   FDP     1   \n",
       "3                                                 Ärztin   CDU     1   \n",
       "4                          Mathematiker, Geschäftsführer   CDU     1   \n",
       "5                                  Gewerkschaftssekretär   SPD     1   \n",
       "...                                                  ...   ...   ...   \n",
       "11613               Dipl.-Chemiker, Bundesminister a. D.   CDU    11   \n",
       "11614  Bundestagspräsident, Bundesminister a. D., Jurist   CDU    11   \n",
       "11615  Präsident DBT a. D., Vizepräsident DBT a. D., ...   CSU    11   \n",
       "11616  Bundestagspräsident, Bundesminister a. D., Jurist   CDU    12   \n",
       "11617  Bundestagspräsident, Bundesminister a. D., Jurist   CDU    13   \n",
       "\n",
       "       legislature  elect_distr  \\\n",
       "0                5        174.0   \n",
       "1                3          NaN   \n",
       "3               11          NaN   \n",
       "4               12        268.0   \n",
       "5                5          NaN   \n",
       "...            ...          ...   \n",
       "11613           18        181.0   \n",
       "11614           17        284.0   \n",
       "11615           11        232.0   \n",
       "11616           18        284.0   \n",
       "11617           19        284.0   \n",
       "\n",
       "                                                 faction mandate_type  \n",
       "0      Fraktion der Christlich Demokratischen Union/C...   Direktwahl  \n",
       "1              Fraktion der Freien Demokratischen Partei  Landesliste  \n",
       "3      Fraktion der Christlich Demokratischen Union/C...  Volkskammer  \n",
       "4      Fraktion der Christlich Demokratischen Union/C...   Direktwahl  \n",
       "5      Fraktion der Sozialdemokratischen Partei Deuts...  Landesliste  \n",
       "...                                                  ...          ...  \n",
       "11613  Fraktion der Christlich Demokratischen Union/C...   Direktwahl  \n",
       "11614  Fraktion der Christlich Demokratischen Union/C...   Direktwahl  \n",
       "11615  Fraktion der Christlich Demokratischen Union/C...   Direktwahl  \n",
       "11616  Fraktion der Christlich Demokratischen Union/C...   Direktwahl  \n",
       "11617                                          Präsidium   Direktwahl  \n",
       "\n",
       "[11405 rows x 18 columns]"
      ]
     },
     "execution_count": 164,
     "metadata": {},
     "output_type": "execute_result"
    }
   ],
   "source": [
    "mdb_csv[mdb_csv['country_birth'].isnull()]"
   ]
  },
  {
   "cell_type": "markdown",
   "metadata": {},
   "source": [
    "There is no birth country value for Germany, which means all null values can be replaced with `Germany`."
   ]
  },
  {
   "cell_type": "markdown",
   "metadata": {},
   "source": [
    "#### Missing values for religion and family_stat"
   ]
  },
  {
   "cell_type": "code",
   "execution_count": 165,
   "metadata": {},
   "outputs": [
    {
     "data": {
      "text/plain": [
       "religion\n",
       "evangelisch                  3405\n",
       "ohne Angaben                 3274\n",
       "katholisch                   2984\n",
       "römisch-katholisch            828\n",
       "evangelisch-lutherisch        366\n",
       "konfessionslos                233\n",
       "evangelisch-reformiert         34\n",
       "Atheistin                      12\n",
       "Islam                           9\n",
       "religionslos                    9\n",
       "evangelisch-freikirchlich       9\n",
       "freireligiös                    8\n",
       "muslimisch                      7\n",
       "Atheist                         6\n",
       "neuapostolisch                  1\n",
       "protestantisch                  1\n",
       "humanistisch                    1\n",
       "griechisch-orthodox             1\n",
       "alevitisch                      1\n",
       "alt-katholisch                  1\n",
       "orthodox                        1\n",
       "russisch-orthodox               1\n",
       "Name: count, dtype: int64"
      ]
     },
     "execution_count": 165,
     "metadata": {},
     "output_type": "execute_result"
    }
   ],
   "source": [
    "mdb_csv['religion'].value_counts() # keine Angaben as possible value"
   ]
  },
  {
   "cell_type": "markdown",
   "metadata": {},
   "source": []
  },
  {
   "cell_type": "markdown",
   "metadata": {},
   "source": [
    "There are multiple values that not distinct in their semantic.\n",
    "\n",
    "Values like `Atheistin`, `Atheist` and `religionslos` have the same meaning. \n",
    "The same can be said about `Islam` and `muslimisch`.<br>\n",
    "\n",
    "Smaller different Christian confessions also can be grouped together with their larger cousins. \n",
    "\n",
    "    Evangelisch: 3815\n",
    "    Katholisch: 3813\n",
    "    Konfessionslos/Atheistisch/Humanistisch: 261\n",
    "    Ohne Angaben: 3274\n",
    "    Islamisch/Muslimisch: 17\n",
    "    Orthodox: 3\n",
    "    Andere: 9\n",
    "\n",
    "Detailed listing of all religions/confessions:\n",
    "\n",
    "    Evangelisch: 3815\n",
    "        evangelisch: 3405\n",
    "        evangelisch-lutherisch: 366\n",
    "        evangelisch-reformiert: 34\n",
    "        evangelisch-freikirchlich: 9\n",
    "        protestantisch: 1\n",
    "\n",
    "    Katholisch: 3813\n",
    "        katholisch: 2984\n",
    "        römisch-katholisch: 828\n",
    "        alt-katholisch: 1\n",
    "\n",
    "    Konfessionslos/Atheistisch/Humanistisch: 261\n",
    "        konfessionslos: 233\n",
    "        Atheistin: 12\n",
    "        Atheist: 6\n",
    "        humanistisch: 1\n",
    "        religionslos: 9\n",
    "\n",
    "    Ohne Angaben: 3274\n",
    "        ohne Angaben: 3274\n",
    "\n",
    "    Islamisch/Muslimisch: 17\n",
    "        Islam: 9\n",
    "        muslimisch: 7\n",
    "        alevitisch: 1\n",
    "\n",
    "    Orthodox: 3\n",
    "        griechisch-orthodox: 1\n",
    "        russisch-orthodox: 1\n",
    "        orthodox: 1\n",
    "\n",
    "    Andere: 9\n",
    "        neuapostolisch: 1\n",
    "        freireligiös: 8"
   ]
  },
  {
   "cell_type": "code",
   "execution_count": 166,
   "metadata": {},
   "outputs": [
    {
     "name": "stdout",
     "output_type": "stream",
     "text": [
      "Amount of unique family_stat values: 60\n"
     ]
    }
   ],
   "source": [
    "print('Amount of unique family_stat values:', len(mdb_csv['family_stat'].unique()))"
   ]
  },
  {
   "cell_type": "code",
   "execution_count": 167,
   "metadata": {},
   "outputs": [
    {
     "data": {
      "text/plain": [
       "family_stat\n",
       "verheiratet, 2 Kinder                            2720\n",
       "verheiratet, 3 Kinder                            1821\n",
       "verheiratet                                      1717\n",
       "verheiratet, 1 Kind                              1365\n",
       "keine Angaben                                    1043\n",
       "verheiratet, 4 Kinder                             887\n",
       "ledig                                             425\n",
       "verheiratet, 5 Kinder                             329\n",
       "verheiratet, 6 Kinder                             178\n",
       "2 Kinder                                          113\n",
       "verwitwet, 2 Kinder                                77\n",
       "1 Kind                                             76\n",
       "geschieden, 2 Kinder                               71\n",
       "geschieden, 1 Kind                                 69\n",
       "verwitwet                                          63\n",
       "ledig, 1 Kind                                      50\n",
       "3 Kinder                                           50\n",
       "geschieden, 3 Kinder                               38\n",
       "verwitwet, 1 Kind                                  34\n",
       "verheiratet, 8 Kinder                              32\n",
       "verwitwet, 3 Kinder                                32\n",
       "geschieden                                         31\n",
       "verheiratet, 7 Kinder                              25\n",
       "4 Kinder                                           19\n",
       "unverheiratet, 1 Kind                              16\n",
       "ohne Angaben                                       13\n",
       "unverheiratet, 1 Pflegekind                        13\n",
       "Lebensgemeinschaft                                 13\n",
       "verheiratet, 9 Kinder                              12\n",
       "verwitwet, 5 Kinder                                11\n",
       "verpartnert                                        11\n",
       "verheiratet, 10 Kinder                             11\n",
       "verwitwet, 4 Kinder                                10\n",
       "geschieden, 5 Kinder                               10\n",
       "geschieden, 4 Kinder                                8\n",
       "eingetragene Lebenspartnerschaft                    7\n",
       "unverheiratet                                       6\n",
       "patchwork, 2 Kinder                                 6\n",
       "getrennt lebend, 3 Kinder                           5\n",
       "verheiratet, 12 Kinder                              5\n",
       "gleichgeschlechtliche Partnerschaft                 4\n",
       "verheiratet, 2 Kinder, 3 Pflegekinder               4\n",
       "getrennt lebend, 2 Kinder                           3\n",
       "verwitwet, 6 Kinder                                 3\n",
       "ledig, 2 Kinder                                     3\n",
       "ledig, 3 Kinder                                     3\n",
       "5 Kinder                                            3\n",
       "unverheiratet, 2 Kinder                             3\n",
       "eheähnl. Lebensgemeinschaft, 1 Kind                 2\n",
       "verheiratet, 1 Adoptivkind                          2\n",
       "verheiratet, 1 Kinder, 3 Pflegekinder               2\n",
       "eheähnl. Lebensgemeinschaft, 2 Kinder               2\n",
       "ledig, 4 Kinder                                     1\n",
       "verpartnert, 2 Kinder                               1\n",
       "getrennt lebend, 4 Kinder                           1\n",
       "alleinerziehend, 3 Kinder                           1\n",
       "lesbische Lebensgemeinschaft, 1 Kind                1\n",
       "ledig, in Lebensgemeinschaft lebend, 4 Kinder       1\n",
       "verlobt                                             1\n",
       "Name: count, dtype: int64"
      ]
     },
     "execution_count": 167,
     "metadata": {},
     "output_type": "execute_result"
    }
   ],
   "source": [
    "mdb_csv['family_stat'].value_counts() # no real value because of combination between relationship type and amount of children"
   ]
  },
  {
   "cell_type": "markdown",
   "metadata": {},
   "source": [
    "The values of the `family_stat` are not normalized instead it tries to combine civil status with the number of children. <br>\n",
    "These values have to be split to make more sense of the data.\n",
    "\n",
    "Additionally should the civil status be simplified. <br>\n",
    "According to the Personalstandsregister do multiple values like `verlobt`, `patchwork` or `verpartnert`not exist.\n",
    "It mainly only acceptst the values for single, married, divorced and widowed (and their according values for a civil partnership). \n",
    "\n",
    "Since the civil partnership does no longer exist in Germany, the values involving a civil partnership of any kind will should be transformed to their according civil status."
   ]
  },
  {
   "cell_type": "markdown",
   "metadata": {},
   "source": [
    "### y-values for party and faction"
   ]
  },
  {
   "cell_type": "code",
   "execution_count": 168,
   "metadata": {},
   "outputs": [
    {
     "data": {
      "text/plain": [
       "party\n",
       "SPD                      4249\n",
       "CDU                      4150\n",
       "FDP                      1035\n",
       "CSU                       997\n",
       "BÜNDNIS 90/DIE GRÜNEN     451\n",
       "DIE LINKE.                296\n",
       "AfD                        91\n",
       "PDS                        77\n",
       "GRÜNE                      51\n",
       "DP                         39\n",
       "Plos                       34\n",
       "DIE GRÜNEN/BÜNDNIS 90      32\n",
       "FU                         21\n",
       "GB/ BHE                    20\n",
       "KPD                        18\n",
       "PDS/LL                     15\n",
       "WAV                        14\n",
       "DZP                         5\n",
       "BP                          5\n",
       "DSU                         5\n",
       "CSUS                        4\n",
       "DRP                         3\n",
       "DPS                         2\n",
       "SRP                         1\n",
       "NDP                         1\n",
       "DPB                         1\n",
       "CVP                         1\n",
       "Name: count, dtype: int64"
      ]
     },
     "execution_count": 168,
     "metadata": {},
     "output_type": "execute_result"
    }
   ],
   "source": [
    "mdb_csv['party'].value_counts() "
   ]
  },
  {
   "cell_type": "code",
   "execution_count": 169,
   "metadata": {},
   "outputs": [
    {
     "data": {
      "text/plain": [
       "<Axes: xlabel='party'>"
      ]
     },
     "execution_count": 169,
     "metadata": {},
     "output_type": "execute_result"
    },
    {
     "data": {
      "image/png": "[encoded data removed]",
      "text/plain": [
       "<Figure size 1200x500 with 1 Axes>"
      ]
     },
     "metadata": {},
     "output_type": "display_data"
    }
   ],
   "source": [
    "mdb_csv['party'].value_counts().plot(kind='bar', figsize=(12,5))"
   ]
  },
  {
   "cell_type": "code",
   "execution_count": 170,
   "metadata": {},
   "outputs": [
    {
     "data": {
      "text/plain": [
       "faction\n",
       "Fraktion der Christlich Demokratischen Union/Christlich - Sozialen Union          5089\n",
       "Fraktion der Sozialdemokratischen Partei Deutschlands                             4244\n",
       "Fraktion der Freien Demokratischen Partei                                         1052\n",
       "Fraktion Bündnis 90/Die Grünen                                                     419\n",
       "Fraktion DIE LINKE.                                                                269\n",
       "Fraktion Die Grünen                                                                103\n",
       "Alternative für Deutschland                                                         92\n",
       "Gruppe der Partei des Demokratischen Sozialismus                                    55\n",
       "Fraktion Deutsche Partei                                                            49\n",
       "Fraktionslos                                                                        39\n",
       "Fraktion der Partei des Demokratischen Sozialismus                                  39\n",
       "Fraktion Gesamtdeutscher Block / Block der Heimatvertriebenen und Entrechteten      29\n",
       "Fraktion Bayernpartei                                                               21\n",
       "Gruppe der Partei des Demokratischen Sozialismus/Linke Liste                        19\n",
       "Fraktion der Kommunistischen Partei Deutschlands                                    18\n",
       "Fraktion Deutsche Zentrums-Partei                                                   13\n",
       "Fraktion der CDU/CSU (Gast)                                                         12\n",
       "Ältestenrat                                                                         11\n",
       "Fraktion Die Grünen/Bündnis 90                                                      10\n",
       "Gruppe Bündnis 90/Die Grünen                                                         9\n",
       "Fraktion Wirtschaftliche Aufbauvereinigung                                           8\n",
       "Fraktion Deutsche Partei/Freie Volkspartei                                           6\n",
       "Fraktion Deutsche Reichspartei/Nationale Rechte                                      4\n",
       "Fraktion der SPD (Gast)                                                              2\n",
       "Präsidium                                                                            2\n",
       "Fraktion Deutsche Reichspartei                                                       1\n",
       "Fraktion Föderalistische Union                                                       1\n",
       "Fraktion Freie Volkspartei                                                           1\n",
       "Ältestenrat / Vertreter der BR                                                       1\n",
       "Name: count, dtype: int64"
      ]
     },
     "execution_count": 170,
     "metadata": {},
     "output_type": "execute_result"
    }
   ],
   "source": [
    "mdb_csv['faction'].value_counts()"
   ]
  },
  {
   "cell_type": "code",
   "execution_count": 171,
   "metadata": {},
   "outputs": [
    {
     "data": {
      "text/plain": [
       "<Axes: xlabel='faction'>"
      ]
     },
     "execution_count": 171,
     "metadata": {},
     "output_type": "execute_result"
    },
    {
     "data": {
      "image/png": "[encoded data removed]",
      "text/plain": [
       "<Figure size 1200x500 with 1 Axes>"
      ]
     },
     "metadata": {},
     "output_type": "display_data"
    }
   ],
   "source": [
    "mdb_csv['faction'].value_counts().plot(kind='bar', figsize=(12,5))"
   ]
  },
  {
   "cell_type": "markdown",
   "metadata": {},
   "source": [
    "Since for the `party` and `faction` value there are a lot of outliers, which will be difficult if not impossible to predict, the politial senitment of parties can be grouped closer together.\n",
    "\n",
    "TODO:"
   ]
  },
  {
   "cell_type": "markdown",
   "metadata": {},
   "source": [
    "### TODO: CLEAN UP"
   ]
  },
  {
   "cell_type": "code",
   "execution_count": 172,
   "metadata": {},
   "outputs": [
    {
     "data": {
      "text/plain": [
       "<Axes: xlabel='elect_distr'>"
      ]
     },
     "execution_count": 172,
     "metadata": {},
     "output_type": "execute_result"
    },
    {
     "data": {
      "image/png": "[encoded data removed]",
      "text/plain": [
       "<Figure size 5000x500 with 1 Axes>"
      ]
     },
     "metadata": {},
     "output_type": "display_data"
    }
   ],
   "source": [
    "mdb_csv['elect_distr'].value_counts().plot(kind='bar', figsize=(50,5))\n"
   ]
  },
  {
   "cell_type": "code",
   "execution_count": 173,
   "metadata": {},
   "outputs": [
    {
     "data": {
      "text/plain": [
       "<Axes: xlabel='elect_distr'>"
      ]
     },
     "execution_count": 173,
     "metadata": {},
     "output_type": "execute_result"
    },
    {
     "data": {
      "image/png": "[encoded data removed]",
      "text/plain": [
       "<Figure size 5000x500 with 1 Axes>"
      ]
     },
     "metadata": {},
     "output_type": "display_data"
    }
   ],
   "source": [
    "mdb_csv['mandate_type'].value_counts()\n",
    "mdb_el_dist = mdb_csv[mdb_csv['mandate_type']=='Landesliste'].copy()\n",
    "mdb_el_dist['elect_distr'].value_counts().plot(kind='bar', figsize=(50,5))"
   ]
  },
  {
   "cell_type": "markdown",
   "metadata": {},
   "source": [
    "TODO: How do interpret the election district???? --> has the election district correlation to party or faction --> also try color plot party/faction/spectrum values in different color according to the election district"
   ]
  },
  {
   "cell_type": "code",
   "execution_count": 174,
   "metadata": {},
   "outputs": [
    {
     "data": {
      "text/plain": [
       "legislature\n",
       "19    729\n",
       "11    702\n",
       "12    699\n",
       "14    699\n",
       "13    693\n",
       "18    658\n",
       "17    652\n",
       "16    642\n",
       "15    628\n",
       "4     580\n",
       "10    576\n",
       "3     562\n",
       "5     559\n",
       "2     558\n",
       "6     556\n",
       "8     553\n",
       "9     549\n",
       "7     549\n",
       "1     474\n",
       "Name: count, dtype: int64"
      ]
     },
     "execution_count": 174,
     "metadata": {},
     "output_type": "execute_result"
    },
    {
     "data": {
      "image/png": "[encoded data removed]",
      "text/plain": [
       "<Figure size 3000x1000 with 1 Axes>"
      ]
     },
     "metadata": {},
     "output_type": "display_data"
    }
   ],
   "source": [
    "mdb_csv['legislature'].value_counts().plot(kind='bar', figsize=(30,10))\n",
    "mdb_csv['legislature'].value_counts()"
   ]
  },
  {
   "cell_type": "markdown",
   "metadata": {},
   "source": [
    "### 2.3) numeric values"
   ]
  },
  {
   "cell_type": "code",
   "execution_count": 175,
   "metadata": {},
   "outputs": [
    {
     "data": {
      "text/html": [
       "<div>\n",
       "<style scoped>\n",
       "    .dataframe tbody tr th:only-of-type {\n",
       "        vertical-align: middle;\n",
       "    }\n",
       "\n",
       "    .dataframe tbody tr th {\n",
       "        vertical-align: top;\n",
       "    }\n",
       "\n",
       "    .dataframe thead th {\n",
       "        text-align: right;\n",
       "    }\n",
       "</style>\n",
       "<table border=\"1\" class=\"dataframe\">\n",
       "  <thead>\n",
       "    <tr style=\"text-align: right;\">\n",
       "      <th></th>\n",
       "      <th>time</th>\n",
       "      <th>legislature</th>\n",
       "      <th>elect_distr</th>\n",
       "    </tr>\n",
       "  </thead>\n",
       "  <tbody>\n",
       "    <tr>\n",
       "      <th>count</th>\n",
       "      <td>11618.000000</td>\n",
       "      <td>11618.000000</td>\n",
       "      <td>5970.000000</td>\n",
       "    </tr>\n",
       "    <tr>\n",
       "      <th>mean</th>\n",
       "      <td>2.571355</td>\n",
       "      <td>10.507058</td>\n",
       "      <td>134.130151</td>\n",
       "    </tr>\n",
       "    <tr>\n",
       "      <th>std</th>\n",
       "      <td>1.707634</td>\n",
       "      <td>5.433358</td>\n",
       "      <td>86.298410</td>\n",
       "    </tr>\n",
       "    <tr>\n",
       "      <th>min</th>\n",
       "      <td>1.000000</td>\n",
       "      <td>1.000000</td>\n",
       "      <td>1.000000</td>\n",
       "    </tr>\n",
       "    <tr>\n",
       "      <th>25%</th>\n",
       "      <td>1.000000</td>\n",
       "      <td>6.000000</td>\n",
       "      <td>56.000000</td>\n",
       "    </tr>\n",
       "    <tr>\n",
       "      <th>50%</th>\n",
       "      <td>2.000000</td>\n",
       "      <td>11.000000</td>\n",
       "      <td>130.000000</td>\n",
       "    </tr>\n",
       "    <tr>\n",
       "      <th>75%</th>\n",
       "      <td>3.000000</td>\n",
       "      <td>15.000000</td>\n",
       "      <td>204.000000</td>\n",
       "    </tr>\n",
       "    <tr>\n",
       "      <th>max</th>\n",
       "      <td>13.000000</td>\n",
       "      <td>19.000000</td>\n",
       "      <td>328.000000</td>\n",
       "    </tr>\n",
       "  </tbody>\n",
       "</table>\n",
       "</div>"
      ],
      "text/plain": [
       "               time   legislature  elect_distr\n",
       "count  11618.000000  11618.000000  5970.000000\n",
       "mean       2.571355     10.507058   134.130151\n",
       "std        1.707634      5.433358    86.298410\n",
       "min        1.000000      1.000000     1.000000\n",
       "25%        1.000000      6.000000    56.000000\n",
       "50%        2.000000     11.000000   130.000000\n",
       "75%        3.000000     15.000000   204.000000\n",
       "max       13.000000     19.000000   328.000000"
      ]
     },
     "execution_count": 175,
     "metadata": {},
     "output_type": "execute_result"
    }
   ],
   "source": [
    "mdb_csv.describe()"
   ]
  },
  {
   "cell_type": "code",
   "execution_count": 176,
   "metadata": {},
   "outputs": [
    {
     "data": {
      "text/plain": [
       "array([[<Axes: title={'center': 'time'}>,\n",
       "        <Axes: title={'center': 'legislature'}>],\n",
       "       [<Axes: title={'center': 'elect_distr'}>, <Axes: >]], dtype=object)"
      ]
     },
     "execution_count": 176,
     "metadata": {},
     "output_type": "execute_result"
    },
    {
     "data": {
      "image/png": "[encoded data removed]",
      "text/plain": [
       "<Figure size 1500x1000 with 4 Axes>"
      ]
     },
     "metadata": {},
     "output_type": "display_data"
    }
   ],
   "source": [
    "mdb_csv.hist(bins=50, figsize=(15,10))"
   ]
  },
  {
   "cell_type": "markdown",
   "metadata": {},
   "source": [
    "There are no numeric outlier values.\n",
    "\n",
    "The histogram to `elect_distr` is not really relevant since it represents the geographic value of the election district."
   ]
  },
  {
   "cell_type": "markdown",
   "metadata": {},
   "source": [
    "<hr>\n",
    "\n",
    "## 3) Data Preprocessing\n",
    " geographic data in numeric data\n",
    "https://thepythoncode.com/article/get-geolocation-in-python"
   ]
  },
  {
   "cell_type": "markdown",
   "metadata": {},
   "source": [
    "### 3.1) Missing values\n",
    "The missing values for `birth_place`, `party` and `mandate_type`are filled like described in 2.2)"
   ]
  },
  {
   "cell_type": "code",
   "execution_count": null,
   "metadata": {},
   "outputs": [],
   "source": [
    "mdb_csv.at[3357, 'place_birth'] = 'Sondershausen'\n",
    "mdb_csv.at[6500, 'place_birth'] = 'Sondershausen'\n",
    "mdb_csv.at[3564, 'place_birth'] = 'Nordhausen'\n",
    "mdb_csv.at[6650, 'place_birth'] = 'Nordhausen'\n",
    "\n",
    "mdb_csv.at[574, 'party'] = 'SPD'\n",
    "mdb_csv.at[4481, 'party'] = 'SPD'\n",
    "mdb_csv.at[1322, 'party'] = 'NDP'\n",
    "mdb_csv.at[2054, 'party'] = 'DP'\n",
    "mdb_csv.at[5510, 'party'] = 'DP'\n",
    "\n",
    "mdb_csv.at[5969, 'mandate_type'] = 'Landesliste'"
   ]
  },
  {
   "cell_type": "markdown",
   "metadata": {},
   "source": [
    "### 3.2) Geographic data\n",
    "Treating the geographic data from `birth_place`, `birth_country` and `elect_distr` like categorical or numeric data would be wrong. <br>\n",
    "These places are in relation to each other, which can each be represented as coordinates with latitude and longitude, so that the computer understands this numeric relation.\n",
    "\n",
    "To determine the latitude and longitude the package `geopy` is used.\n",
    "This package only needs a name to determine a location. <br>\n",
    "Because of that the country column can be dropped."
   ]
  },
  {
   "cell_type": "markdown",
   "metadata": {},
   "source": [
    "### 3.3) Categorical data\n",
    "Some categorical data represents the identical or near identical values.\n",
    "While many values can be transformed after the train-test split, `party` and `faction` have to be cleaned up now. "
   ]
  },
  {
   "cell_type": "markdown",
   "metadata": {},
   "source": []
  },
  {
   "cell_type": "markdown",
   "metadata": {},
   "source": [
    "#### religion"
   ]
  },
  {
   "cell_type": "markdown",
   "metadata": {},
   "source": [
    "#### party"
   ]
  },
  {
   "cell_type": "markdown",
   "metadata": {},
   "source": [
    "### 3.4) Date data\n",
    "Is happening in the pipeline"
   ]
  },
  {
   "cell_type": "code",
   "execution_count": null,
   "metadata": {},
   "outputs": [],
   "source": []
  },
  {
   "cell_type": "markdown",
   "metadata": {},
   "source": [
    "### 3.5) Remove columns"
   ]
  },
  {
   "cell_type": "code",
   "execution_count": 178,
   "metadata": {},
   "outputs": [
    {
     "name": "stdout",
     "output_type": "stream",
     "text": [
      "<class 'pandas.core.frame.DataFrame'>\n",
      "RangeIndex: 11618 entries, 0 to 11617\n",
      "Data columns (total 18 columns):\n",
      " #   Column         Non-Null Count  Dtype  \n",
      "---  ------         --------------  -----  \n",
      " 0   title          3061 non-null   object \n",
      " 1   first_name     11618 non-null  object \n",
      " 2   last_name      11618 non-null  object \n",
      " 3   full_name      11618 non-null  object \n",
      " 4   gender         11618 non-null  object \n",
      " 5   date_birth     11618 non-null  object \n",
      " 6   place_birth    11618 non-null  object \n",
      " 7   country_birth  213 non-null    object \n",
      " 8   date_death     5411 non-null   object \n",
      " 9   religion       11192 non-null  object \n",
      " 10  family_stat    11463 non-null  object \n",
      " 11  occupation     11618 non-null  object \n",
      " 12  party          11618 non-null  object \n",
      " 13  time           11618 non-null  int64  \n",
      " 14  legislature    11618 non-null  int64  \n",
      " 15  elect_distr    5970 non-null   float64\n",
      " 16  faction        11618 non-null  object \n",
      " 17  mandate_type   11617 non-null  object \n",
      "dtypes: float64(1), int64(2), object(15)\n",
      "memory usage: 1.6+ MB\n"
     ]
    },
    {
     "data": {
      "text/html": [
       "<div>\n",
       "<style scoped>\n",
       "    .dataframe tbody tr th:only-of-type {\n",
       "        vertical-align: middle;\n",
       "    }\n",
       "\n",
       "    .dataframe tbody tr th {\n",
       "        vertical-align: top;\n",
       "    }\n",
       "\n",
       "    .dataframe thead th {\n",
       "        text-align: right;\n",
       "    }\n",
       "</style>\n",
       "<table border=\"1\" class=\"dataframe\">\n",
       "  <thead>\n",
       "    <tr style=\"text-align: right;\">\n",
       "      <th></th>\n",
       "      <th>title</th>\n",
       "      <th>full_name</th>\n",
       "      <th>gender</th>\n",
       "      <th>date_birth</th>\n",
       "      <th>place_birth</th>\n",
       "      <th>country_birth</th>\n",
       "      <th>religion</th>\n",
       "      <th>family_stat</th>\n",
       "      <th>party</th>\n",
       "      <th>time</th>\n",
       "      <th>legislature</th>\n",
       "      <th>elect_distr</th>\n",
       "      <th>faction</th>\n",
       "      <th>mandate_type</th>\n",
       "    </tr>\n",
       "  </thead>\n",
       "  <tbody>\n",
       "    <tr>\n",
       "      <th>0</th>\n",
       "      <td>Dr.</td>\n",
       "      <td>Dr. Manfred Abelein</td>\n",
       "      <td>männlich</td>\n",
       "      <td>20.10.1930</td>\n",
       "      <td>Stuttgart</td>\n",
       "      <td>NaN</td>\n",
       "      <td>katholisch</td>\n",
       "      <td>keine Angaben</td>\n",
       "      <td>CDU</td>\n",
       "      <td>1</td>\n",
       "      <td>5</td>\n",
       "      <td>174.0</td>\n",
       "      <td>Fraktion der Christlich Demokratischen Union/C...</td>\n",
       "      <td>Direktwahl</td>\n",
       "    </tr>\n",
       "    <tr>\n",
       "      <th>1</th>\n",
       "      <td>Dr.</td>\n",
       "      <td>Dr. Ernst Achenbach</td>\n",
       "      <td>männlich</td>\n",
       "      <td>09.04.1909</td>\n",
       "      <td>Siegen</td>\n",
       "      <td>NaN</td>\n",
       "      <td>evangelisch</td>\n",
       "      <td>verheiratet, 3 Kinder</td>\n",
       "      <td>FDP</td>\n",
       "      <td>1</td>\n",
       "      <td>3</td>\n",
       "      <td>NaN</td>\n",
       "      <td>Fraktion der Freien Demokratischen Partei</td>\n",
       "      <td>Landesliste</td>\n",
       "    </tr>\n",
       "    <tr>\n",
       "      <th>2</th>\n",
       "      <td>NaN</td>\n",
       "      <td>Annemarie Ackermann</td>\n",
       "      <td>weiblich</td>\n",
       "      <td>26.05.1913</td>\n",
       "      <td>Parabutsch</td>\n",
       "      <td>Jugoslawien</td>\n",
       "      <td>katholisch</td>\n",
       "      <td>verheiratet, 5 Kinder</td>\n",
       "      <td>CDU</td>\n",
       "      <td>1</td>\n",
       "      <td>2</td>\n",
       "      <td>NaN</td>\n",
       "      <td>Fraktion der Christlich Demokratischen Union/C...</td>\n",
       "      <td>Landesliste</td>\n",
       "    </tr>\n",
       "    <tr>\n",
       "      <th>3</th>\n",
       "      <td>Dr.</td>\n",
       "      <td>Dr. Else Ackermann</td>\n",
       "      <td>weiblich</td>\n",
       "      <td>06.11.1933</td>\n",
       "      <td>Berlin</td>\n",
       "      <td>NaN</td>\n",
       "      <td>evangelisch</td>\n",
       "      <td>ledig</td>\n",
       "      <td>CDU</td>\n",
       "      <td>1</td>\n",
       "      <td>11</td>\n",
       "      <td>NaN</td>\n",
       "      <td>Fraktion der Christlich Demokratischen Union/C...</td>\n",
       "      <td>Volkskammer</td>\n",
       "    </tr>\n",
       "    <tr>\n",
       "      <th>4</th>\n",
       "      <td>NaN</td>\n",
       "      <td>Ulrich Adam</td>\n",
       "      <td>männlich</td>\n",
       "      <td>09.06.1950</td>\n",
       "      <td>Teterow, Kr. Teterow, Bezirk Neubrandenburg</td>\n",
       "      <td>NaN</td>\n",
       "      <td>evangelisch</td>\n",
       "      <td>verheiratet, 2 Kinder</td>\n",
       "      <td>CDU</td>\n",
       "      <td>1</td>\n",
       "      <td>12</td>\n",
       "      <td>268.0</td>\n",
       "      <td>Fraktion der Christlich Demokratischen Union/C...</td>\n",
       "      <td>Direktwahl</td>\n",
       "    </tr>\n",
       "    <tr>\n",
       "      <th>...</th>\n",
       "      <td>...</td>\n",
       "      <td>...</td>\n",
       "      <td>...</td>\n",
       "      <td>...</td>\n",
       "      <td>...</td>\n",
       "      <td>...</td>\n",
       "      <td>...</td>\n",
       "      <td>...</td>\n",
       "      <td>...</td>\n",
       "      <td>...</td>\n",
       "      <td>...</td>\n",
       "      <td>...</td>\n",
       "      <td>...</td>\n",
       "      <td>...</td>\n",
       "    </tr>\n",
       "    <tr>\n",
       "      <th>11613</th>\n",
       "      <td>Dr.</td>\n",
       "      <td>Dr. Heinz Riesenhuber</td>\n",
       "      <td>männlich</td>\n",
       "      <td>01.12.1935</td>\n",
       "      <td>Frankfurt/Main</td>\n",
       "      <td>NaN</td>\n",
       "      <td>katholisch</td>\n",
       "      <td>verheiratet, 4 Kinder</td>\n",
       "      <td>CDU</td>\n",
       "      <td>11</td>\n",
       "      <td>18</td>\n",
       "      <td>181.0</td>\n",
       "      <td>Fraktion der Christlich Demokratischen Union/C...</td>\n",
       "      <td>Direktwahl</td>\n",
       "    </tr>\n",
       "    <tr>\n",
       "      <th>11614</th>\n",
       "      <td>Dr.</td>\n",
       "      <td>Dr. Wolfgang Schäuble</td>\n",
       "      <td>männlich</td>\n",
       "      <td>18.09.1942</td>\n",
       "      <td>Freiburg</td>\n",
       "      <td>NaN</td>\n",
       "      <td>evangelisch</td>\n",
       "      <td>verheiratet, 4 Kinder</td>\n",
       "      <td>CDU</td>\n",
       "      <td>11</td>\n",
       "      <td>17</td>\n",
       "      <td>284.0</td>\n",
       "      <td>Fraktion der Christlich Demokratischen Union/C...</td>\n",
       "      <td>Direktwahl</td>\n",
       "    </tr>\n",
       "    <tr>\n",
       "      <th>11615</th>\n",
       "      <td>NaN</td>\n",
       "      <td>Richard Stücklen</td>\n",
       "      <td>männlich</td>\n",
       "      <td>20.08.1916</td>\n",
       "      <td>Heideck</td>\n",
       "      <td>NaN</td>\n",
       "      <td>katholisch</td>\n",
       "      <td>verheiratet</td>\n",
       "      <td>CSU</td>\n",
       "      <td>11</td>\n",
       "      <td>11</td>\n",
       "      <td>232.0</td>\n",
       "      <td>Fraktion der Christlich Demokratischen Union/C...</td>\n",
       "      <td>Direktwahl</td>\n",
       "    </tr>\n",
       "    <tr>\n",
       "      <th>11616</th>\n",
       "      <td>Dr.</td>\n",
       "      <td>Dr. Wolfgang Schäuble</td>\n",
       "      <td>männlich</td>\n",
       "      <td>18.09.1942</td>\n",
       "      <td>Freiburg</td>\n",
       "      <td>NaN</td>\n",
       "      <td>evangelisch</td>\n",
       "      <td>verheiratet, 4 Kinder</td>\n",
       "      <td>CDU</td>\n",
       "      <td>12</td>\n",
       "      <td>18</td>\n",
       "      <td>284.0</td>\n",
       "      <td>Fraktion der Christlich Demokratischen Union/C...</td>\n",
       "      <td>Direktwahl</td>\n",
       "    </tr>\n",
       "    <tr>\n",
       "      <th>11617</th>\n",
       "      <td>Dr.</td>\n",
       "      <td>Dr. Wolfgang Schäuble</td>\n",
       "      <td>männlich</td>\n",
       "      <td>18.09.1942</td>\n",
       "      <td>Freiburg</td>\n",
       "      <td>NaN</td>\n",
       "      <td>evangelisch</td>\n",
       "      <td>verheiratet, 4 Kinder</td>\n",
       "      <td>CDU</td>\n",
       "      <td>13</td>\n",
       "      <td>19</td>\n",
       "      <td>284.0</td>\n",
       "      <td>Präsidium</td>\n",
       "      <td>Direktwahl</td>\n",
       "    </tr>\n",
       "  </tbody>\n",
       "</table>\n",
       "<p>11618 rows × 14 columns</p>\n",
       "</div>"
      ],
      "text/plain": [
       "      title              full_name    gender  date_birth  \\\n",
       "0       Dr.    Dr. Manfred Abelein  männlich  20.10.1930   \n",
       "1       Dr.    Dr. Ernst Achenbach  männlich  09.04.1909   \n",
       "2       NaN    Annemarie Ackermann  weiblich  26.05.1913   \n",
       "3       Dr.     Dr. Else Ackermann  weiblich  06.11.1933   \n",
       "4       NaN            Ulrich Adam  männlich  09.06.1950   \n",
       "...     ...                    ...       ...         ...   \n",
       "11613   Dr.  Dr. Heinz Riesenhuber  männlich  01.12.1935   \n",
       "11614   Dr.  Dr. Wolfgang Schäuble  männlich  18.09.1942   \n",
       "11615   NaN       Richard Stücklen  männlich  20.08.1916   \n",
       "11616   Dr.  Dr. Wolfgang Schäuble  männlich  18.09.1942   \n",
       "11617   Dr.  Dr. Wolfgang Schäuble  männlich  18.09.1942   \n",
       "\n",
       "                                       place_birth country_birth     religion  \\\n",
       "0                                        Stuttgart           NaN   katholisch   \n",
       "1                                           Siegen           NaN  evangelisch   \n",
       "2                                       Parabutsch   Jugoslawien   katholisch   \n",
       "3                                           Berlin           NaN  evangelisch   \n",
       "4      Teterow, Kr. Teterow, Bezirk Neubrandenburg           NaN  evangelisch   \n",
       "...                                            ...           ...          ...   \n",
       "11613                               Frankfurt/Main           NaN   katholisch   \n",
       "11614                                     Freiburg           NaN  evangelisch   \n",
       "11615                                      Heideck           NaN   katholisch   \n",
       "11616                                     Freiburg           NaN  evangelisch   \n",
       "11617                                     Freiburg           NaN  evangelisch   \n",
       "\n",
       "                 family_stat party  time  legislature  elect_distr  \\\n",
       "0              keine Angaben   CDU     1            5        174.0   \n",
       "1      verheiratet, 3 Kinder   FDP     1            3          NaN   \n",
       "2      verheiratet, 5 Kinder   CDU     1            2          NaN   \n",
       "3                      ledig   CDU     1           11          NaN   \n",
       "4      verheiratet, 2 Kinder   CDU     1           12        268.0   \n",
       "...                      ...   ...   ...          ...          ...   \n",
       "11613  verheiratet, 4 Kinder   CDU    11           18        181.0   \n",
       "11614  verheiratet, 4 Kinder   CDU    11           17        284.0   \n",
       "11615            verheiratet   CSU    11           11        232.0   \n",
       "11616  verheiratet, 4 Kinder   CDU    12           18        284.0   \n",
       "11617  verheiratet, 4 Kinder   CDU    13           19        284.0   \n",
       "\n",
       "                                                 faction mandate_type  \n",
       "0      Fraktion der Christlich Demokratischen Union/C...   Direktwahl  \n",
       "1              Fraktion der Freien Demokratischen Partei  Landesliste  \n",
       "2      Fraktion der Christlich Demokratischen Union/C...  Landesliste  \n",
       "3      Fraktion der Christlich Demokratischen Union/C...  Volkskammer  \n",
       "4      Fraktion der Christlich Demokratischen Union/C...   Direktwahl  \n",
       "...                                                  ...          ...  \n",
       "11613  Fraktion der Christlich Demokratischen Union/C...   Direktwahl  \n",
       "11614  Fraktion der Christlich Demokratischen Union/C...   Direktwahl  \n",
       "11615  Fraktion der Christlich Demokratischen Union/C...   Direktwahl  \n",
       "11616  Fraktion der Christlich Demokratischen Union/C...   Direktwahl  \n",
       "11617                                          Präsidium   Direktwahl  \n",
       "\n",
       "[11618 rows x 14 columns]"
      ]
     },
     "execution_count": 178,
     "metadata": {},
     "output_type": "execute_result"
    }
   ],
   "source": [
    "mdb_csv.info()\n",
    "mdb_csv = mdb_csv.drop(columns=[\"first_name\", \"last_name\", \"full_name\", \"date_death\", \"occupation\", \"birth_county\"])"
   ]
  },
  {
   "cell_type": "markdown",
   "metadata": {},
   "source": [
    "<hr>\n",
    "\n",
    "## 3) Train-Test-Split"
   ]
  },
  {
   "cell_type": "code",
   "execution_count": null,
   "metadata": {},
   "outputs": [],
   "source": [
    "from sklearn.model_selection import train_test_split\n",
    "\n",
    "X_mdb = mdb_csv.drop(columns=['party', \"faction\"], axis=1)\n",
    "y_mdb = mdb_csv[['party', 'faction']]\n",
    "\n",
    "X_train, X_test, y_train, y_test = train_test_split(mdb_csv, y_mdb, test_size=0.2, random_state=42)"
   ]
  },
  {
   "cell_type": "markdown",
   "metadata": {},
   "source": [
    "<hr>\n",
    "\n",
    "## 4) Correlation between different attributes and the result attribute"
   ]
  },
  {
   "cell_type": "code",
   "execution_count": 215,
   "metadata": {},
   "outputs": [
    {
     "data": {
      "text/html": [
       "<div>\n",
       "<style scoped>\n",
       "    .dataframe tbody tr th:only-of-type {\n",
       "        vertical-align: middle;\n",
       "    }\n",
       "\n",
       "    .dataframe tbody tr th {\n",
       "        vertical-align: top;\n",
       "    }\n",
       "\n",
       "    .dataframe thead th {\n",
       "        text-align: right;\n",
       "    }\n",
       "</style>\n",
       "<table border=\"1\" class=\"dataframe\">\n",
       "  <thead>\n",
       "    <tr style=\"text-align: right;\">\n",
       "      <th></th>\n",
       "      <th>time</th>\n",
       "      <th>legislature</th>\n",
       "      <th>elect_distr</th>\n",
       "    </tr>\n",
       "  </thead>\n",
       "  <tbody>\n",
       "    <tr>\n",
       "      <th>time</th>\n",
       "      <td>NaN</td>\n",
       "      <td>NaN</td>\n",
       "      <td>NaN</td>\n",
       "    </tr>\n",
       "    <tr>\n",
       "      <th>legislature</th>\n",
       "      <td>NaN</td>\n",
       "      <td>NaN</td>\n",
       "      <td>NaN</td>\n",
       "    </tr>\n",
       "    <tr>\n",
       "      <th>elect_distr</th>\n",
       "      <td>NaN</td>\n",
       "      <td>NaN</td>\n",
       "      <td>NaN</td>\n",
       "    </tr>\n",
       "  </tbody>\n",
       "</table>\n",
       "</div>"
      ],
      "text/plain": [
       "             time  legislature  elect_distr\n",
       "time          NaN          NaN          NaN\n",
       "legislature   NaN          NaN          NaN\n",
       "elect_distr   NaN          NaN          NaN"
      ]
     },
     "execution_count": 215,
     "metadata": {},
     "output_type": "execute_result"
    }
   ],
   "source": [
    "X_comb = pd.concat([X_train, y_train], axis=1)\n",
    "corr_matrix = X_comb.corr(numeric_only=True)\n",
    "corr_matrix[y_train]#.sort_values(ascending=False)"
   ]
  },
  {
   "cell_type": "markdown",
   "metadata": {},
   "source": [
    "## 5) Transform Data \n",
    "Fill missing numerical values, scale numerical values and transform categories in machine readable values via encoders"
   ]
  },
  {
   "cell_type": "markdown",
   "metadata": {},
   "source": [
    "### 5.1) Custom Transformer"
   ]
  },
  {
   "cell_type": "code",
   "execution_count": null,
   "metadata": {},
   "outputs": [],
   "source": [
    "from sklearn.base import BaseEstimator, TransformerMixin"
   ]
  },
  {
   "cell_type": "markdown",
   "metadata": {},
   "source": [
    "#### religion"
   ]
  },
  {
   "cell_type": "code",
   "execution_count": null,
   "metadata": {},
   "outputs": [],
   "source": [
    "class ReligionTransformer(BaseEstimator, TransformerMixin):\n",
    "    \"\"\"\n",
    "    A transformer class that is used to normalize the relion categories by grouping them together.\n",
    "\n",
    "    \"\"\"\n",
    "    def __init__(self) -> None:\n",
    "        # No parameters to initialize for this transformer\n",
    "        pass\n",
    "\n",
    "    def fit(self, X, y=None):\n",
    "        # No fitting necessary for this transformer\n",
    "        return self\n",
    "    \n",
    "    def transform(self, X):\n",
    "        X_ = X.copy()\n",
    "        # Apply the transformation\n",
    "        for col in X_.columns:\n",
    "            X_[col] = X_[col].apply(self._replace_strings)\n",
    "        return X_\n",
    "    \n",
    "    def _replace_strings(self, value):\n",
    "        # Check if the value is a string and perform replacement\n",
    "        if isinstance(value, str):\n",
    "            if value == 'evangelisch-lutherisch' or value == 'evangelisch-reformiert' or value == 'evangelisch-freikirchlich' or value == \"protestantisch\":\n",
    "                return 'evangelisch'\n",
    "            elif value == 'römisch-katholisch' or value == 'alt-katholisch':\n",
    "                return 'katholisch'\n",
    "            elif value == 'konfessionslos' or value == 'Atheistin' or value == 'Atheist' or value == 'humanistisch' or value == 'religionslos':\n",
    "                return \"konfessionslos/atheistisch/humanistisch\"\n",
    "            elif value == 'Islam' or value == 'muslimisch' or value == 'alevitisch':\n",
    "                return 'islamisch'\n",
    "            elif value == 'griechisch-orthodox' or value == 'russisch-orthodox':\n",
    "                return 'orthodox'\n",
    "            elif value == 'neuapostolisch' or value == 'freireligös':\n",
    "                return 'andere'\n",
    "        # Return \"ohne Angaben\" in case the value is not a string   \n",
    "        else: \n",
    "            return \"ohne Angaben\"\n",
    "        \n",
    "        return value"
   ]
  },
  {
   "cell_type": "markdown",
   "metadata": {},
   "source": [
    "#### title"
   ]
  },
  {
   "cell_type": "code",
   "execution_count": null,
   "metadata": {},
   "outputs": [],
   "source": [
    "class TitleTransformer(BaseEstimator, TransformerMixin):\n",
    "    \"\"\"\n",
    "    A transformer class that is used to normalize the party category.\n",
    "\n",
    "    \"\"\"\n",
    "    def __init__(self) -> None:\n",
    "        # No parameters to initialize for this transformer\n",
    "        pass\n",
    "\n",
    "    def fit(self, X, y=None):\n",
    "        # No fitting necessary for this transformer\n",
    "        return self\n",
    "    \n",
    "    def transform(self, X):\n",
    "        X_ = X.copy()\n",
    "        # Apply the transformation\n",
    "        for col in X_.columns:\n",
    "            X_[col] = X_[col].apply(self._replace_strings)\n",
    "        return X_\n",
    "    \n",
    "    def _replace_strings(self, value):\n",
    "        if isinstance(value, str):\n",
    "            #TODO: research titel transform\n",
    "        else:\n",
    "            return \"kein Titel\"\n",
    "        return value"
   ]
  },
  {
   "cell_type": "markdown",
   "metadata": {},
   "source": [
    "#### party"
   ]
  },
  {
   "cell_type": "code",
   "execution_count": null,
   "metadata": {},
   "outputs": [],
   "source": [
    "class PartyTransformer(BaseEstimator, TransformerMixin):\n",
    "    \"\"\"\n",
    "    A transformer class that is used to normalize the party category.\n",
    "\n",
    "    \"\"\"\n",
    "    def __init__(self) -> None:\n",
    "        # No parameters to initialize for this transformer\n",
    "        pass\n",
    "\n",
    "    def fit(self, X, y=None):\n",
    "        # No fitting necessary for this transformer\n",
    "        return self\n",
    "    \n",
    "    def transform(self, X):\n",
    "        X_ = X.copy()\n",
    "        # Apply the transformation\n",
    "        for col in X_.columns:\n",
    "            X_[col] = X_[col].apply(self._replace_strings)\n",
    "        return X_\n",
    "    \n",
    "    def _replace_strings(self, value):\n",
    "        ## TODO:             \n",
    "        return value"
   ]
  },
  {
   "cell_type": "markdown",
   "metadata": {},
   "source": [
    "#### faction"
   ]
  },
  {
   "cell_type": "code",
   "execution_count": null,
   "metadata": {},
   "outputs": [],
   "source": [
    "class FactionTransformer(BaseEstimator, TransformerMixin):\n",
    "    \"\"\"\n",
    "    A transformer class that is used to normalize the faction category.\n",
    "\n",
    "    \"\"\"\n",
    "    def __init__(self) -> None:\n",
    "        # No parameters to initialize for this transformer\n",
    "        pass\n",
    "\n",
    "    def fit(self, X, y=None):\n",
    "        # No fitting necessary for this transformer\n",
    "        return self\n",
    "    \n",
    "    def transform(self, X):\n",
    "        X_ = X.copy()\n",
    "        # Apply the transformation\n",
    "        for col in X_.columns:\n",
    "            X_[col] = X_[col].apply(self._replace_strings)\n",
    "        return X_\n",
    "    \n",
    "    def _replace_strings(self, value):\n",
    "        ## TODO:             \n",
    "        return value"
   ]
  },
  {
   "cell_type": "markdown",
   "metadata": {},
   "source": [
    "#### country"
   ]
  },
  {
   "cell_type": "code",
   "execution_count": null,
   "metadata": {},
   "outputs": [],
   "source": [
    "class CountryTransformer(BaseEstimator, TransformerMixin):\n",
    "    \"\"\"\n",
    "    A transformer class that is used to normalize the party category.\n",
    "\n",
    "    \"\"\"\n",
    "    def __init__(self) -> None:\n",
    "        # No parameters to initialize for this transformer\n",
    "        pass\n",
    "\n",
    "    def fit(self, X, y=None):\n",
    "        # No fitting necessary for this transformer\n",
    "        return self\n",
    "    \n",
    "    def transform(self, X):\n",
    "        X_ = X.copy()\n",
    "        # Apply the transformation\n",
    "        for col in X_.columns:\n",
    "            X_[col] = X_[col].apply(self._replace_country)\n",
    "        return X_\n",
    "    \n",
    "    def _replace_country(self, value):\n",
    "        if not isinstance(value, str):\n",
    "            return \"Deutschland\"           \n",
    "        return value"
   ]
  },
  {
   "cell_type": "markdown",
   "metadata": {},
   "source": [
    "#### dates"
   ]
  },
  {
   "cell_type": "code",
   "execution_count": 209,
   "metadata": {},
   "outputs": [
    {
     "ename": "NameError",
     "evalue": "name 'BaseEstimator' is not defined",
     "output_type": "error",
     "traceback": [
      "\u001b[1;31m---------------------------------------------------------------------------\u001b[0m",
      "\u001b[1;31mNameError\u001b[0m                                 Traceback (most recent call last)",
      "Cell \u001b[1;32mIn[209], line 3\u001b[0m\n\u001b[0;32m      1\u001b[0m \u001b[38;5;28;01mfrom\u001b[39;00m \u001b[38;5;21;01mdatetime\u001b[39;00m \u001b[38;5;28;01mimport\u001b[39;00m datetime\n\u001b[1;32m----> 3\u001b[0m \u001b[38;5;28;01mclass\u001b[39;00m \u001b[38;5;21;01mDateTransformer\u001b[39;00m(\u001b[43mBaseEstimator\u001b[49m, TransformerMixin):\n\u001b[0;32m      4\u001b[0m \u001b[38;5;250m    \u001b[39m\u001b[38;5;124;03m\"\"\"\u001b[39;00m\n\u001b[0;32m      5\u001b[0m \u001b[38;5;124;03m    A transformer class that is used to normalize the party category.\u001b[39;00m\n\u001b[0;32m      6\u001b[0m \n\u001b[0;32m      7\u001b[0m \u001b[38;5;124;03m    \"\"\"\u001b[39;00m\n\u001b[0;32m      8\u001b[0m     \u001b[38;5;28;01mdef\u001b[39;00m \u001b[38;5;21m__init__\u001b[39m(\u001b[38;5;28mself\u001b[39m) \u001b[38;5;241m-\u001b[39m\u001b[38;5;241m>\u001b[39m \u001b[38;5;28;01mNone\u001b[39;00m:\n\u001b[0;32m      9\u001b[0m         \u001b[38;5;66;03m# No parameters to initialize for this transformer\u001b[39;00m\n",
      "\u001b[1;31mNameError\u001b[0m: name 'BaseEstimator' is not defined"
     ]
    }
   ],
   "source": [
    "from datetime import datetime\n",
    "\n",
    "class DateTransformer(BaseEstimator, TransformerMixin):\n",
    "    \"\"\"\n",
    "    A transformer class that is used to normalize the party category.\n",
    "\n",
    "    \"\"\"\n",
    "    def __init__(self) -> None:\n",
    "        # No parameters to initialize for this transformer\n",
    "        pass\n",
    "\n",
    "    def fit(self, X, y=None):\n",
    "        # No fitting necessary for this transformer\n",
    "        return self\n",
    "    \n",
    "    def transform(self, X):\n",
    "        X_ = X.copy()\n",
    "        # Apply the transformation\n",
    "        for col in X_.columns:\n",
    "            X_[col] = X_[col].apply(self._date_to_num)\n",
    "        return X_\n",
    "    \n",
    "    def _date_to_num(self, value):\n",
    "        return datetime.strptime(value, '%d.%m.%Y').timestamp()"
   ]
  },
  {
   "cell_type": "markdown",
   "metadata": {},
   "source": [
    "#### geo"
   ]
  },
  {
   "cell_type": "code",
   "execution_count": null,
   "metadata": {},
   "outputs": [],
   "source": [
    "from geopy.geocoders import Nominatim\n",
    "\n",
    "class GeoTransformer(BaseEstimator, TransformerMixin):\n",
    "    \"\"\"\n",
    "    A transformer class that is used to normalize a location name to coordinates.\n",
    "\n",
    "    \"\"\"\n",
    "    def __init__(self) -> None:\n",
    "        self.app = Nominatim()\n",
    "        \n",
    "\n",
    "    def fit(self, X, y=None):\n",
    "        # No fitting necessary for this transformer\n",
    "        return self\n",
    "    \n",
    "    def transform(self, X):\n",
    "        X_ = X.copy()\n",
    "        # Apply the transformation\n",
    "        for col in X_.columns:\n",
    "            X_[col] = X_[col].apply(self._coordinates)\n",
    "        return X_\n",
    "    \n",
    "    def _coordinates(self, value):\n",
    "        x = self.app.geocode(value.split(' ')[0]).raw         \n",
    "        return (x.latitude, x.longitude)\n"
   ]
  },
  {
   "cell_type": "markdown",
   "metadata": {},
   "source": [
    "#### family_stat"
   ]
  },
  {
   "cell_type": "code",
   "execution_count": 199,
   "metadata": {},
   "outputs": [
    {
     "name": "stdout",
     "output_type": "stream",
     "text": [
      "Parabutsch\n",
      "Chmeleschen / Bzk. Karlsbad (Sudetenland)\n",
      "Neustuttgart\n",
      "Kreidelwitz / Kreis Glogau\n",
      "Eidorf\n",
      "Untermolbitz / Altenburg-Thüringen\n",
      "Pedwahlen\n",
      "Stobnitt / Ostpreußen\n",
      "Langenkorn\n",
      "Nivilingen / Saargebiet\n",
      "Itzehohe\n",
      "Brackweide\n",
      "Brustow\n",
      "Marktlangendorf / Krs. Sternberg (Sudetenland)\n",
      "Vohrde bei Bassum / Niedersachsen\n",
      "Hannover-Münden\n",
      "Klein-Biesnitz / Görlitz\n",
      "Buchenhoeh / Oberschlesien\n",
      "Gölriehenfeld\n",
      "Dortmund-Oesoel\n",
      "Kaminsker-Hauland / Posen\n",
      "Drensteinfurth / Westfalen\n",
      "Breitenmarkt\n",
      "Hugsweiler\n",
      "Oldenburg-Ostenburg\n",
      "Conradstal / Schlesien\n",
      "Grünmetterstetten Kreis Horb am Neckar\n",
      "Oberheiduk\n",
      "Neurettendorf/ Krs.Königinhof,später Krs.Trautenau\n",
      "Witschenske / Krs. Lissa\n",
      "Parberg / Bayern\n",
      "Rehberg-Schätzenreith / Sudetenland\n",
      "Vahnerow / Pommern\n",
      "Oberspay / Krs. St. Goar\n",
      "Wredensitz\n",
      "Ordruf / Thüringen\n",
      "Altsiwatz\n",
      "Saleschen / Ostpreußen\n",
      "Tomaschow / Lodz\n",
      "Altbeelitz / Krs. Friedeberg, Hinterpommern\n",
      "Speinshard\n",
      "Geversmühlen / Mecklenburg-Vorpommen\n",
      "Elsterwerder-Biehla / Brandenburg\n",
      "Krothmaißling\n",
      "Klosterneuendorf / Kreis Garderlegen\n",
      "Garmisch-Partenkirschen\n",
      "Feiburg / Breisgau\n",
      "Erkenrechtsweiler / Schwäbische Alb\n",
      "Jagertow / Kreis Belgrad (Pommern)\n",
      "Möhnsee-Körbecke\n",
      "Koprvnica\n",
      "Freekenhorst\n",
      "Yukaribalakur, Türkei\n",
      "Sabelowka, Kasachstan\n",
      "Neunkrichen (Saar)\n"
     ]
    }
   ],
   "source": [
    "# instantiate a new Nominatim client\n",
    "app = Nominatim(user_agent=\"tutorial\")\n",
    "problems = []\n",
    "\n",
    "for place in mdb_csv['place_birth'].unique():\n",
    "    splitted = place.split(' ')\n",
    "    try:\n",
    "        location = app.geocode(splitted[0]).raw\n",
    "    except Exception:\n",
    "        print(place)\n",
    "        problems.append(place)\n",
    "    \n",
    "\n",
    "# for problem in problems:\n",
    "#     print(problem)"
   ]
  },
  {
   "cell_type": "markdown",
   "metadata": {},
   "source": [
    "### 5.2) Pipelines"
   ]
  },
  {
   "cell_type": "code",
   "execution_count": null,
   "metadata": {},
   "outputs": [],
   "source": [
    "\n",
    "from sklearn.pipeline import Pipeline\n",
    "from sklearn.impute import SimpleImputer, KNNImputer\n",
    "from sklearn.preprocessing import StandardScaler, RobustScaler, OrdinalEncoder, OneHotEncoder"
   ]
  },
  {
   "cell_type": "code",
   "execution_count": null,
   "metadata": {},
   "outputs": [],
   "source": [
    "num_pipeline = Pipeline(steps=[\n",
    "    ('std_scaler', StandardScaler()),\n",
    "])\n",
    "\n",
    "date_pipeline = Pipeline(steps=[\n",
    "    # null values form death\n",
    "    ('date_transformer', DateTransformer()),\n",
    "    ('std_scaler', StandardScaler())\n",
    "])\n",
    "\n",
    "geo_pipeline = Pipeline(steps=[\n",
    "    ('country_null', CountryTransformer()), # doesnt mean anything\n",
    "    \n",
    "])\n",
    "\n",
    "elect_distr_pipeline = Pipeline(steps=[\n",
    "\n",
    "])\n",
    "\n",
    "cat_ord_pipeline = Pipeline(steps=[\n",
    "    ('ordinal', OrdinalEncoder())\n",
    "])\n",
    "\n",
    "cat_1hot_pipeline = Pipeline(steps=[\n",
    "    ('1hot', OneHotEncoder()),\n",
    "])"
   ]
  },
  {
   "cell_type": "code",
   "execution_count": null,
   "metadata": {},
   "outputs": [],
   "source": [
    "from sklearn.compose import ColumnTransformer\n",
    "\n",
    "num_attributes = ['time', 'legislature']\n",
    "date_attributes = ['birth_date', 'date_death']\n",
    "geo_attributes = ['birth_place']\n",
    "cat_ord_attributes = ['gender']\n",
    "cat_1hot_attributes = ['party', 'faction', 'religion', 'title', 'mandate_type']\n",
    "\n",
    "full_pipeline = ColumnTransformer([\n",
    "    (\"num\", num_pipeline, num_attributes),\n",
    "    (\"date\", date_pipeline, date_attributes),\n",
    "    (\"religon\", religion_pipeline, ['religion']),\n",
    "    (\"title\", title_pipeline, ['title']),\n",
    "    (\"party\", party_pipeline, ['party']),\n",
    "    (\"faction\", faction_pipeline, ['faction']),\n",
    "    (\"family_stat\", family_stat_pipeline, ['family_pipeline']),\n",
    "    (\"birth_place\", birth_place_pipeline, [])\n",
    "    (\"cat_ord\", cat_ord_pipeline, cat_ord_attributes),\n",
    "    (\"cat_1hot\", cat_1hot_pipeline, cat_1hot_attributes)\n",
    "])"
   ]
  },
  {
   "cell_type": "code",
   "execution_count": 180,
   "metadata": {},
   "outputs": [
    {
     "name": "stdout",
     "output_type": "stream",
     "text": [
      "<class 'pandas.core.frame.DataFrame'>\n",
      "RangeIndex: 11618 entries, 0 to 11617\n",
      "Data columns (total 18 columns):\n",
      " #   Column         Non-Null Count  Dtype  \n",
      "---  ------         --------------  -----  \n",
      " 0   title          3061 non-null   object \n",
      " 1   first_name     11618 non-null  object \n",
      " 2   last_name      11618 non-null  object \n",
      " 3   full_name      11618 non-null  object \n",
      " 4   gender         11618 non-null  object \n",
      " 5   date_birth     11618 non-null  object \n",
      " 6   place_birth    11618 non-null  object \n",
      " 7   country_birth  213 non-null    object \n",
      " 8   date_death     5411 non-null   object \n",
      " 9   religion       11192 non-null  object \n",
      " 10  family_stat    11463 non-null  object \n",
      " 11  occupation     11618 non-null  object \n",
      " 12  party          11618 non-null  object \n",
      " 13  time           11618 non-null  int64  \n",
      " 14  legislature    11618 non-null  int64  \n",
      " 15  elect_distr    5970 non-null   float64\n",
      " 16  faction        11618 non-null  object \n",
      " 17  mandate_type   11617 non-null  object \n",
      "dtypes: float64(1), int64(2), object(15)\n",
      "memory usage: 1.6+ MB\n"
     ]
    }
   ],
   "source": [
    "X_train_prepared = full_pipeline.fit_transform(X_train)"
   ]
  },
  {
   "cell_type": "code",
   "execution_count": null,
   "metadata": {},
   "outputs": [],
   "source": [
    "cat_attibs_2_names = full_pipeline.named_transformers_['cat2']['1hot'].get_feature_names_out(cat_attribs_2)\n",
    "\n",
    "all_attribs_names = num_attributes + date_attributes + geo_attributes + cat_ord_attributes # TODO: \n",
    "X_train_prepared = pd.DataFrame(X_train_prepared, columns=all_attribs_names)"
   ]
  },
  {
   "cell_type": "markdown",
   "metadata": {},
   "source": [
    "## 6) Regression"
   ]
  },
  {
   "cell_type": "code",
   "execution_count": null,
   "metadata": {},
   "outputs": [],
   "source": []
  },
  {
   "cell_type": "markdown",
   "metadata": {},
   "source": [
    "## 7) Classifier"
   ]
  },
  {
   "cell_type": "code",
   "execution_count": null,
   "metadata": {},
   "outputs": [],
   "source": []
  },
  {
   "cell_type": "markdown",
   "metadata": {},
   "source": [
    "## 8) Validation\n",
    "Check the accuracy_score, the confusion_matrix, n-fold cross validation or similar methods"
   ]
  },
  {
   "cell_type": "code",
   "execution_count": null,
   "metadata": {},
   "outputs": [],
   "source": []
  },
  {
   "cell_type": "markdown",
   "metadata": {},
   "source": [
    "## 9) Fine Tuning"
   ]
  },
  {
   "cell_type": "code",
   "execution_count": null,
   "metadata": {},
   "outputs": [],
   "source": []
  },
  {
   "cell_type": "markdown",
   "metadata": {},
   "source": [
    "## 10) Evaluation"
   ]
  },
  {
   "cell_type": "code",
   "execution_count": null,
   "metadata": {},
   "outputs": [],
   "source": []
  }
 ],
 "metadata": {
  "kernelspec": {
   "display_name": "Python 3 (ipykernel)",
   "language": "python",
   "name": "python3"
  }
 },
 "nbformat": 4,
 "nbformat_minor": 2
}
